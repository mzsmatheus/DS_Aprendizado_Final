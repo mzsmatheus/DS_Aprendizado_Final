{
  "nbformat": 4,
  "nbformat_minor": 0,
  "metadata": {
    "colab": {
      "provenance": [],
      "collapsed_sections": [
        "vH96upA9zItL"
      ],
      "toc_visible": true
    },
    "kernelspec": {
      "name": "python3",
      "display_name": "Python 3"
    },
    "language_info": {
      "name": "python"
    }
  },
  "cells": [
    {
      "cell_type": "markdown",
      "source": [
        "# **Atividade Final Data Science - Aprendizado Supervisionado**"
      ],
      "metadata": {
        "id": "aZEKbplPre3x"
      }
    },
    {
      "cell_type": "markdown",
      "source": [
        "Aluno: Matheus Zalamena e Souza  \n",
        "RGM: 12948128\n"
      ],
      "metadata": {
        "id": "RzxKdNdrrwGA"
      }
    },
    {
      "cell_type": "markdown",
      "source": [
        "## Contextualização e Objetivo:"
      ],
      "metadata": {
        "id": "iQjmfmCwsGbT"
      }
    },
    {
      "cell_type": "markdown",
      "source": [
        "Link de referência do Dataset: https://www.kaggle.com/datasets/shariful07/student-mental-health"
      ],
      "metadata": {
        "id": "_EDEpu3pws0v"
      }
    },
    {
      "cell_type": "markdown",
      "source": [
        "O Projeto tem como base o Dataset público \"Student Mental Health\" retirado do Kaggle com informações sobre os perfis dos estudantes de uma Universidade pública na Malásia com relação a saúde mental (Atualizado em 2022)."
      ],
      "metadata": {
        "id": "8ZN3LRjOsLCq"
      }
    },
    {
      "cell_type": "markdown",
      "source": [
        "O Objetivo do projeto é treinar um algoritmo usando **Árvore de Decisão, Random Forests e Regressão Logística** para prever a tendência dos estudantes de procura por Tratamento Psicológico Profissional tendo como base o perfil de cada estudante e o histórico de doenças como Depressão e Ansiedade."
      ],
      "metadata": {
        "id": "ti5rT20jxPsl"
      }
    },
    {
      "cell_type": "markdown",
      "source": [
        "## Inicialização e imports"
      ],
      "metadata": {
        "id": "h2bb-PJaZCYr"
      }
    },
    {
      "cell_type": "code",
      "source": [
        "from google.colab import drive\n",
        "drive.mount('/content/drive')"
      ],
      "metadata": {
        "colab": {
          "base_uri": "https://localhost:8080/"
        },
        "id": "Z7n7mwZq0ig_",
        "outputId": "2b9354de-307a-4f4e-9f17-0f4a8215ee23"
      },
      "execution_count": 83,
      "outputs": [
        {
          "output_type": "stream",
          "name": "stdout",
          "text": [
            "Drive already mounted at /content/drive; to attempt to forcibly remount, call drive.mount(\"/content/drive\", force_remount=True).\n"
          ]
        }
      ]
    },
    {
      "cell_type": "code",
      "source": [
        "from google.colab import drive\n",
        "import pandas as pandas\n",
        "import numpy as np\n",
        "from sklearn.preprocessing import StandardScaler as ss\n",
        "from sklearn import tree\n",
        "from sklearn.model_selection import train_test_split as tts\n",
        "from sklearn.linear_model import LogisticRegression as lr\n",
        "from sklearn.metrics import accuracy_score, confusion_matrix, classification_report\n",
        "from sklearn.tree import DecisionTreeClassifier as dtc\n",
        "from sklearn.ensemble import RandomForestClassifier\n",
        "import warnings\n",
        "warnings.filterwarnings(\"ignore\")"
      ],
      "metadata": {
        "id": "HEaWixSBZBvi"
      },
      "execution_count": 84,
      "outputs": []
    },
    {
      "cell_type": "markdown",
      "source": [
        "## Inicializando o Dataset e fazendo limpeza dos dados"
      ],
      "metadata": {
        "id": "vH96upA9zItL"
      }
    },
    {
      "cell_type": "code",
      "execution_count": 85,
      "metadata": {
        "id": "uzTg7GkfY7Sh"
      },
      "outputs": [],
      "source": [
        "df_inicial = pandas.read_csv('/content/drive/MyDrive/DS FINAL/Student Mental health - Student Mental health.csv', encoding='latin-1', sep=',')"
      ]
    },
    {
      "cell_type": "code",
      "source": [
        "df_inicial.head()"
      ],
      "metadata": {
        "colab": {
          "base_uri": "https://localhost:8080/",
          "height": 0
        },
        "id": "qmLcpzXgwEQ2",
        "outputId": "884dd51a-00c2-48fd-c11c-de8efcb58225"
      },
      "execution_count": 86,
      "outputs": [
        {
          "output_type": "execute_result",
          "data": {
            "text/plain": [
              "        Timestamp Choose your gender   Age What is your course  \\\n",
              "0  8/7/2020 12:02             Female  18.0         Engineering   \n",
              "1  8/7/2020 12:04               Male  21.0   Islamic education   \n",
              "2  8/7/2020 12:05               Male  19.0                 BIT   \n",
              "3  8/7/2020 12:06             Female  22.0                Laws   \n",
              "4  8/7/2020 12:13               Male  23.0        Mathemathics   \n",
              "\n",
              "  Your current year of Study What is your CGPA Marital status  \\\n",
              "0                     year 1       3.00 - 3.49             No   \n",
              "1                     year 2       3.00 - 3.49             No   \n",
              "2                     Year 1       3.00 - 3.49             No   \n",
              "3                     year 3       3.00 - 3.49            Yes   \n",
              "4                     year 4       3.00 - 3.49             No   \n",
              "\n",
              "  Do you have Depression Do you have Anxiety Do you have Panic attack  \\\n",
              "0                    Yes                  No                      Yes   \n",
              "1                     No                 Yes                       No   \n",
              "2                    Yes                 Yes                      Yes   \n",
              "3                    Yes                  No                       No   \n",
              "4                     No                  No                       No   \n",
              "\n",
              "  Did you seek any specialist for a treatment  \n",
              "0                                          No  \n",
              "1                                          No  \n",
              "2                                          No  \n",
              "3                                          No  \n",
              "4                                          No  "
            ],
            "text/html": [
              "\n",
              "  <div id=\"df-16d746c6-314e-4e09-a7de-7f678bb669b6\">\n",
              "    <div class=\"colab-df-container\">\n",
              "      <div>\n",
              "<style scoped>\n",
              "    .dataframe tbody tr th:only-of-type {\n",
              "        vertical-align: middle;\n",
              "    }\n",
              "\n",
              "    .dataframe tbody tr th {\n",
              "        vertical-align: top;\n",
              "    }\n",
              "\n",
              "    .dataframe thead th {\n",
              "        text-align: right;\n",
              "    }\n",
              "</style>\n",
              "<table border=\"1\" class=\"dataframe\">\n",
              "  <thead>\n",
              "    <tr style=\"text-align: right;\">\n",
              "      <th></th>\n",
              "      <th>Timestamp</th>\n",
              "      <th>Choose your gender</th>\n",
              "      <th>Age</th>\n",
              "      <th>What is your course</th>\n",
              "      <th>Your current year of Study</th>\n",
              "      <th>What is your CGPA</th>\n",
              "      <th>Marital status</th>\n",
              "      <th>Do you have Depression</th>\n",
              "      <th>Do you have Anxiety</th>\n",
              "      <th>Do you have Panic attack</th>\n",
              "      <th>Did you seek any specialist for a treatment</th>\n",
              "    </tr>\n",
              "  </thead>\n",
              "  <tbody>\n",
              "    <tr>\n",
              "      <th>0</th>\n",
              "      <td>8/7/2020 12:02</td>\n",
              "      <td>Female</td>\n",
              "      <td>18.0</td>\n",
              "      <td>Engineering</td>\n",
              "      <td>year 1</td>\n",
              "      <td>3.00 - 3.49</td>\n",
              "      <td>No</td>\n",
              "      <td>Yes</td>\n",
              "      <td>No</td>\n",
              "      <td>Yes</td>\n",
              "      <td>No</td>\n",
              "    </tr>\n",
              "    <tr>\n",
              "      <th>1</th>\n",
              "      <td>8/7/2020 12:04</td>\n",
              "      <td>Male</td>\n",
              "      <td>21.0</td>\n",
              "      <td>Islamic education</td>\n",
              "      <td>year 2</td>\n",
              "      <td>3.00 - 3.49</td>\n",
              "      <td>No</td>\n",
              "      <td>No</td>\n",
              "      <td>Yes</td>\n",
              "      <td>No</td>\n",
              "      <td>No</td>\n",
              "    </tr>\n",
              "    <tr>\n",
              "      <th>2</th>\n",
              "      <td>8/7/2020 12:05</td>\n",
              "      <td>Male</td>\n",
              "      <td>19.0</td>\n",
              "      <td>BIT</td>\n",
              "      <td>Year 1</td>\n",
              "      <td>3.00 - 3.49</td>\n",
              "      <td>No</td>\n",
              "      <td>Yes</td>\n",
              "      <td>Yes</td>\n",
              "      <td>Yes</td>\n",
              "      <td>No</td>\n",
              "    </tr>\n",
              "    <tr>\n",
              "      <th>3</th>\n",
              "      <td>8/7/2020 12:06</td>\n",
              "      <td>Female</td>\n",
              "      <td>22.0</td>\n",
              "      <td>Laws</td>\n",
              "      <td>year 3</td>\n",
              "      <td>3.00 - 3.49</td>\n",
              "      <td>Yes</td>\n",
              "      <td>Yes</td>\n",
              "      <td>No</td>\n",
              "      <td>No</td>\n",
              "      <td>No</td>\n",
              "    </tr>\n",
              "    <tr>\n",
              "      <th>4</th>\n",
              "      <td>8/7/2020 12:13</td>\n",
              "      <td>Male</td>\n",
              "      <td>23.0</td>\n",
              "      <td>Mathemathics</td>\n",
              "      <td>year 4</td>\n",
              "      <td>3.00 - 3.49</td>\n",
              "      <td>No</td>\n",
              "      <td>No</td>\n",
              "      <td>No</td>\n",
              "      <td>No</td>\n",
              "      <td>No</td>\n",
              "    </tr>\n",
              "  </tbody>\n",
              "</table>\n",
              "</div>\n",
              "      <button class=\"colab-df-convert\" onclick=\"convertToInteractive('df-16d746c6-314e-4e09-a7de-7f678bb669b6')\"\n",
              "              title=\"Convert this dataframe to an interactive table.\"\n",
              "              style=\"display:none;\">\n",
              "        \n",
              "  <svg xmlns=\"http://www.w3.org/2000/svg\" height=\"24px\"viewBox=\"0 0 24 24\"\n",
              "       width=\"24px\">\n",
              "    <path d=\"M0 0h24v24H0V0z\" fill=\"none\"/>\n",
              "    <path d=\"M18.56 5.44l.94 2.06.94-2.06 2.06-.94-2.06-.94-.94-2.06-.94 2.06-2.06.94zm-11 1L8.5 8.5l.94-2.06 2.06-.94-2.06-.94L8.5 2.5l-.94 2.06-2.06.94zm10 10l.94 2.06.94-2.06 2.06-.94-2.06-.94-.94-2.06-.94 2.06-2.06.94z\"/><path d=\"M17.41 7.96l-1.37-1.37c-.4-.4-.92-.59-1.43-.59-.52 0-1.04.2-1.43.59L10.3 9.45l-7.72 7.72c-.78.78-.78 2.05 0 2.83L4 21.41c.39.39.9.59 1.41.59.51 0 1.02-.2 1.41-.59l7.78-7.78 2.81-2.81c.8-.78.8-2.07 0-2.86zM5.41 20L4 18.59l7.72-7.72 1.47 1.35L5.41 20z\"/>\n",
              "  </svg>\n",
              "      </button>\n",
              "      \n",
              "  <style>\n",
              "    .colab-df-container {\n",
              "      display:flex;\n",
              "      flex-wrap:wrap;\n",
              "      gap: 12px;\n",
              "    }\n",
              "\n",
              "    .colab-df-convert {\n",
              "      background-color: #E8F0FE;\n",
              "      border: none;\n",
              "      border-radius: 50%;\n",
              "      cursor: pointer;\n",
              "      display: none;\n",
              "      fill: #1967D2;\n",
              "      height: 32px;\n",
              "      padding: 0 0 0 0;\n",
              "      width: 32px;\n",
              "    }\n",
              "\n",
              "    .colab-df-convert:hover {\n",
              "      background-color: #E2EBFA;\n",
              "      box-shadow: 0px 1px 2px rgba(60, 64, 67, 0.3), 0px 1px 3px 1px rgba(60, 64, 67, 0.15);\n",
              "      fill: #174EA6;\n",
              "    }\n",
              "\n",
              "    [theme=dark] .colab-df-convert {\n",
              "      background-color: #3B4455;\n",
              "      fill: #D2E3FC;\n",
              "    }\n",
              "\n",
              "    [theme=dark] .colab-df-convert:hover {\n",
              "      background-color: #434B5C;\n",
              "      box-shadow: 0px 1px 3px 1px rgba(0, 0, 0, 0.15);\n",
              "      filter: drop-shadow(0px 1px 2px rgba(0, 0, 0, 0.3));\n",
              "      fill: #FFFFFF;\n",
              "    }\n",
              "  </style>\n",
              "\n",
              "      <script>\n",
              "        const buttonEl =\n",
              "          document.querySelector('#df-16d746c6-314e-4e09-a7de-7f678bb669b6 button.colab-df-convert');\n",
              "        buttonEl.style.display =\n",
              "          google.colab.kernel.accessAllowed ? 'block' : 'none';\n",
              "\n",
              "        async function convertToInteractive(key) {\n",
              "          const element = document.querySelector('#df-16d746c6-314e-4e09-a7de-7f678bb669b6');\n",
              "          const dataTable =\n",
              "            await google.colab.kernel.invokeFunction('convertToInteractive',\n",
              "                                                     [key], {});\n",
              "          if (!dataTable) return;\n",
              "\n",
              "          const docLinkHtml = 'Like what you see? Visit the ' +\n",
              "            '<a target=\"_blank\" href=https://colab.research.google.com/notebooks/data_table.ipynb>data table notebook</a>'\n",
              "            + ' to learn more about interactive tables.';\n",
              "          element.innerHTML = '';\n",
              "          dataTable['output_type'] = 'display_data';\n",
              "          await google.colab.output.renderOutput(dataTable, element);\n",
              "          const docLink = document.createElement('div');\n",
              "          docLink.innerHTML = docLinkHtml;\n",
              "          element.appendChild(docLink);\n",
              "        }\n",
              "      </script>\n",
              "    </div>\n",
              "  </div>\n",
              "  "
            ]
          },
          "metadata": {},
          "execution_count": 86
        }
      ]
    },
    {
      "cell_type": "code",
      "source": [
        "df_inicial.shape"
      ],
      "metadata": {
        "colab": {
          "base_uri": "https://localhost:8080/"
        },
        "id": "uGed1buS2aUa",
        "outputId": "d3d65ed6-a6a9-414b-e12f-22da8e79fbd5"
      },
      "execution_count": 87,
      "outputs": [
        {
          "output_type": "execute_result",
          "data": {
            "text/plain": [
              "(101, 11)"
            ]
          },
          "metadata": {},
          "execution_count": 87
        }
      ]
    },
    {
      "cell_type": "markdown",
      "source": [
        "Fazendo tradução das colunas e filtrando os campos que serão utilizados:"
      ],
      "metadata": {
        "id": "YDO018gO16Fd"
      }
    },
    {
      "cell_type": "code",
      "source": [
        "df_inicial = df_inicial.drop(columns=['Timestamp'])\n",
        "df_inicial = df_inicial.drop(columns=['What is your course'])\n",
        "df_inicial.columns = df_inicial.columns.str.replace('Choose your gender', 'Sexo'\n",
        "                                  ).str.replace('Age', 'Idade'\n",
        "                                  ).str.replace('Your current year of Study', 'Ano atual do curso'\n",
        "                                  ).str.replace('What is your CGPA', 'Média Notas'\n",
        "                                  ).str.replace('Marital status', 'Estado Civil'\n",
        "                                  ).str.replace('Do you have Depression', 'Depressão'\n",
        "                                  ).str.replace('Do you have Anxiety', 'Ansiedade'\n",
        "                                  ).str.replace('Do you have Panic attack', 'Ataque de Pânico'\n",
        "                                  ).str.replace('Did you seek any specialist for a treatment', 'Tratamento Profissional')"
      ],
      "metadata": {
        "id": "X61WaM_Bb7rK"
      },
      "execution_count": 88,
      "outputs": []
    },
    {
      "cell_type": "code",
      "source": [
        "df_inicial.info()"
      ],
      "metadata": {
        "colab": {
          "base_uri": "https://localhost:8080/"
        },
        "id": "jbdIPC-AcVwR",
        "outputId": "54a183cd-80b9-4fac-c861-83f0976e19f8"
      },
      "execution_count": 89,
      "outputs": [
        {
          "output_type": "stream",
          "name": "stdout",
          "text": [
            "<class 'pandas.core.frame.DataFrame'>\n",
            "RangeIndex: 101 entries, 0 to 100\n",
            "Data columns (total 9 columns):\n",
            " #   Column                   Non-Null Count  Dtype  \n",
            "---  ------                   --------------  -----  \n",
            " 0   Sexo                     101 non-null    object \n",
            " 1   Idade                    100 non-null    float64\n",
            " 2   Ano atual do curso       101 non-null    object \n",
            " 3   Média Notas              101 non-null    object \n",
            " 4   Estado Civil             101 non-null    object \n",
            " 5   Depressão                101 non-null    object \n",
            " 6   Ansiedade                101 non-null    object \n",
            " 7   Ataque de Pânico         101 non-null    object \n",
            " 8   Tratamento Profissional  101 non-null    object \n",
            "dtypes: float64(1), object(8)\n",
            "memory usage: 7.2+ KB\n"
          ]
        }
      ]
    },
    {
      "cell_type": "code",
      "source": [
        "df_inicial.head()"
      ],
      "metadata": {
        "colab": {
          "base_uri": "https://localhost:8080/",
          "height": 0
        },
        "id": "1Z6ivhzX4eVL",
        "outputId": "d2f5d8af-6544-46f7-9f48-19a78809ca2a"
      },
      "execution_count": 90,
      "outputs": [
        {
          "output_type": "execute_result",
          "data": {
            "text/plain": [
              "     Sexo  Idade Ano atual do curso  Média Notas Estado Civil Depressão  \\\n",
              "0  Female   18.0             year 1  3.00 - 3.49           No       Yes   \n",
              "1    Male   21.0             year 2  3.00 - 3.49           No        No   \n",
              "2    Male   19.0             Year 1  3.00 - 3.49           No       Yes   \n",
              "3  Female   22.0             year 3  3.00 - 3.49          Yes       Yes   \n",
              "4    Male   23.0             year 4  3.00 - 3.49           No        No   \n",
              "\n",
              "  Ansiedade Ataque de Pânico Tratamento Profissional  \n",
              "0        No              Yes                      No  \n",
              "1       Yes               No                      No  \n",
              "2       Yes              Yes                      No  \n",
              "3        No               No                      No  \n",
              "4        No               No                      No  "
            ],
            "text/html": [
              "\n",
              "  <div id=\"df-b04fc1e9-b5d1-4db4-88f9-05015c42ee8e\">\n",
              "    <div class=\"colab-df-container\">\n",
              "      <div>\n",
              "<style scoped>\n",
              "    .dataframe tbody tr th:only-of-type {\n",
              "        vertical-align: middle;\n",
              "    }\n",
              "\n",
              "    .dataframe tbody tr th {\n",
              "        vertical-align: top;\n",
              "    }\n",
              "\n",
              "    .dataframe thead th {\n",
              "        text-align: right;\n",
              "    }\n",
              "</style>\n",
              "<table border=\"1\" class=\"dataframe\">\n",
              "  <thead>\n",
              "    <tr style=\"text-align: right;\">\n",
              "      <th></th>\n",
              "      <th>Sexo</th>\n",
              "      <th>Idade</th>\n",
              "      <th>Ano atual do curso</th>\n",
              "      <th>Média Notas</th>\n",
              "      <th>Estado Civil</th>\n",
              "      <th>Depressão</th>\n",
              "      <th>Ansiedade</th>\n",
              "      <th>Ataque de Pânico</th>\n",
              "      <th>Tratamento Profissional</th>\n",
              "    </tr>\n",
              "  </thead>\n",
              "  <tbody>\n",
              "    <tr>\n",
              "      <th>0</th>\n",
              "      <td>Female</td>\n",
              "      <td>18.0</td>\n",
              "      <td>year 1</td>\n",
              "      <td>3.00 - 3.49</td>\n",
              "      <td>No</td>\n",
              "      <td>Yes</td>\n",
              "      <td>No</td>\n",
              "      <td>Yes</td>\n",
              "      <td>No</td>\n",
              "    </tr>\n",
              "    <tr>\n",
              "      <th>1</th>\n",
              "      <td>Male</td>\n",
              "      <td>21.0</td>\n",
              "      <td>year 2</td>\n",
              "      <td>3.00 - 3.49</td>\n",
              "      <td>No</td>\n",
              "      <td>No</td>\n",
              "      <td>Yes</td>\n",
              "      <td>No</td>\n",
              "      <td>No</td>\n",
              "    </tr>\n",
              "    <tr>\n",
              "      <th>2</th>\n",
              "      <td>Male</td>\n",
              "      <td>19.0</td>\n",
              "      <td>Year 1</td>\n",
              "      <td>3.00 - 3.49</td>\n",
              "      <td>No</td>\n",
              "      <td>Yes</td>\n",
              "      <td>Yes</td>\n",
              "      <td>Yes</td>\n",
              "      <td>No</td>\n",
              "    </tr>\n",
              "    <tr>\n",
              "      <th>3</th>\n",
              "      <td>Female</td>\n",
              "      <td>22.0</td>\n",
              "      <td>year 3</td>\n",
              "      <td>3.00 - 3.49</td>\n",
              "      <td>Yes</td>\n",
              "      <td>Yes</td>\n",
              "      <td>No</td>\n",
              "      <td>No</td>\n",
              "      <td>No</td>\n",
              "    </tr>\n",
              "    <tr>\n",
              "      <th>4</th>\n",
              "      <td>Male</td>\n",
              "      <td>23.0</td>\n",
              "      <td>year 4</td>\n",
              "      <td>3.00 - 3.49</td>\n",
              "      <td>No</td>\n",
              "      <td>No</td>\n",
              "      <td>No</td>\n",
              "      <td>No</td>\n",
              "      <td>No</td>\n",
              "    </tr>\n",
              "  </tbody>\n",
              "</table>\n",
              "</div>\n",
              "      <button class=\"colab-df-convert\" onclick=\"convertToInteractive('df-b04fc1e9-b5d1-4db4-88f9-05015c42ee8e')\"\n",
              "              title=\"Convert this dataframe to an interactive table.\"\n",
              "              style=\"display:none;\">\n",
              "        \n",
              "  <svg xmlns=\"http://www.w3.org/2000/svg\" height=\"24px\"viewBox=\"0 0 24 24\"\n",
              "       width=\"24px\">\n",
              "    <path d=\"M0 0h24v24H0V0z\" fill=\"none\"/>\n",
              "    <path d=\"M18.56 5.44l.94 2.06.94-2.06 2.06-.94-2.06-.94-.94-2.06-.94 2.06-2.06.94zm-11 1L8.5 8.5l.94-2.06 2.06-.94-2.06-.94L8.5 2.5l-.94 2.06-2.06.94zm10 10l.94 2.06.94-2.06 2.06-.94-2.06-.94-.94-2.06-.94 2.06-2.06.94z\"/><path d=\"M17.41 7.96l-1.37-1.37c-.4-.4-.92-.59-1.43-.59-.52 0-1.04.2-1.43.59L10.3 9.45l-7.72 7.72c-.78.78-.78 2.05 0 2.83L4 21.41c.39.39.9.59 1.41.59.51 0 1.02-.2 1.41-.59l7.78-7.78 2.81-2.81c.8-.78.8-2.07 0-2.86zM5.41 20L4 18.59l7.72-7.72 1.47 1.35L5.41 20z\"/>\n",
              "  </svg>\n",
              "      </button>\n",
              "      \n",
              "  <style>\n",
              "    .colab-df-container {\n",
              "      display:flex;\n",
              "      flex-wrap:wrap;\n",
              "      gap: 12px;\n",
              "    }\n",
              "\n",
              "    .colab-df-convert {\n",
              "      background-color: #E8F0FE;\n",
              "      border: none;\n",
              "      border-radius: 50%;\n",
              "      cursor: pointer;\n",
              "      display: none;\n",
              "      fill: #1967D2;\n",
              "      height: 32px;\n",
              "      padding: 0 0 0 0;\n",
              "      width: 32px;\n",
              "    }\n",
              "\n",
              "    .colab-df-convert:hover {\n",
              "      background-color: #E2EBFA;\n",
              "      box-shadow: 0px 1px 2px rgba(60, 64, 67, 0.3), 0px 1px 3px 1px rgba(60, 64, 67, 0.15);\n",
              "      fill: #174EA6;\n",
              "    }\n",
              "\n",
              "    [theme=dark] .colab-df-convert {\n",
              "      background-color: #3B4455;\n",
              "      fill: #D2E3FC;\n",
              "    }\n",
              "\n",
              "    [theme=dark] .colab-df-convert:hover {\n",
              "      background-color: #434B5C;\n",
              "      box-shadow: 0px 1px 3px 1px rgba(0, 0, 0, 0.15);\n",
              "      filter: drop-shadow(0px 1px 2px rgba(0, 0, 0, 0.3));\n",
              "      fill: #FFFFFF;\n",
              "    }\n",
              "  </style>\n",
              "\n",
              "      <script>\n",
              "        const buttonEl =\n",
              "          document.querySelector('#df-b04fc1e9-b5d1-4db4-88f9-05015c42ee8e button.colab-df-convert');\n",
              "        buttonEl.style.display =\n",
              "          google.colab.kernel.accessAllowed ? 'block' : 'none';\n",
              "\n",
              "        async function convertToInteractive(key) {\n",
              "          const element = document.querySelector('#df-b04fc1e9-b5d1-4db4-88f9-05015c42ee8e');\n",
              "          const dataTable =\n",
              "            await google.colab.kernel.invokeFunction('convertToInteractive',\n",
              "                                                     [key], {});\n",
              "          if (!dataTable) return;\n",
              "\n",
              "          const docLinkHtml = 'Like what you see? Visit the ' +\n",
              "            '<a target=\"_blank\" href=https://colab.research.google.com/notebooks/data_table.ipynb>data table notebook</a>'\n",
              "            + ' to learn more about interactive tables.';\n",
              "          element.innerHTML = '';\n",
              "          dataTable['output_type'] = 'display_data';\n",
              "          await google.colab.output.renderOutput(dataTable, element);\n",
              "          const docLink = document.createElement('div');\n",
              "          docLink.innerHTML = docLinkHtml;\n",
              "          element.appendChild(docLink);\n",
              "        }\n",
              "      </script>\n",
              "    </div>\n",
              "  </div>\n",
              "  "
            ]
          },
          "metadata": {},
          "execution_count": 90
        }
      ]
    },
    {
      "cell_type": "code",
      "source": [
        "df_inicial['Sexo'].unique()"
      ],
      "metadata": {
        "colab": {
          "base_uri": "https://localhost:8080/"
        },
        "id": "Z1yonpRGmgyR",
        "outputId": "c080255e-6e90-4a66-b6ca-47db4a6170d4"
      },
      "execution_count": 91,
      "outputs": [
        {
          "output_type": "execute_result",
          "data": {
            "text/plain": [
              "array(['Female', 'Male'], dtype=object)"
            ]
          },
          "metadata": {},
          "execution_count": 91
        }
      ]
    },
    {
      "cell_type": "code",
      "source": [
        "df_inicial['Sexo'] = df_inicial['Sexo'].replace('Female', 'Feminino')\n",
        "df_inicial['Sexo'] = df_inicial['Sexo'].replace('Male', 'Masculino')"
      ],
      "metadata": {
        "id": "MabvmT8xDw4g"
      },
      "execution_count": 92,
      "outputs": []
    },
    {
      "cell_type": "code",
      "source": [
        "df_inicial['Idade'].unique()"
      ],
      "metadata": {
        "colab": {
          "base_uri": "https://localhost:8080/"
        },
        "id": "WXvf3YZd7xRL",
        "outputId": "9dc70c0e-4b07-440b-81bf-22f7201ed0d2"
      },
      "execution_count": 93,
      "outputs": [
        {
          "output_type": "execute_result",
          "data": {
            "text/plain": [
              "array([18., 21., 19., 22., 23., 20., 24., nan])"
            ]
          },
          "metadata": {},
          "execution_count": 93
        }
      ]
    },
    {
      "cell_type": "code",
      "source": [
        "#verificando e removendo a linha com valor nulo e transformando idade em int\n",
        "df_inicial[df_inicial['Idade'].isna()]\n",
        "df_inicial = df_inicial.drop(43)"
      ],
      "metadata": {
        "id": "2zS5PA918jIv"
      },
      "execution_count": 94,
      "outputs": []
    },
    {
      "cell_type": "code",
      "source": [
        "df_inicial['Idade'] = df_inicial['Idade'].astype(int)"
      ],
      "metadata": {
        "id": "LHHl74SjF1-P"
      },
      "execution_count": 95,
      "outputs": []
    },
    {
      "cell_type": "code",
      "source": [
        "df_inicial['Ano atual do curso'].unique()"
      ],
      "metadata": {
        "colab": {
          "base_uri": "https://localhost:8080/"
        },
        "id": "5bqRiS8F9AfR",
        "outputId": "0a407701-9ca6-4628-8833-d72b74f1ebff"
      },
      "execution_count": 96,
      "outputs": [
        {
          "output_type": "execute_result",
          "data": {
            "text/plain": [
              "array(['year 1', 'year 2', 'Year 1', 'year 3', 'year 4', 'Year 2',\n",
              "       'Year 3'], dtype=object)"
            ]
          },
          "metadata": {},
          "execution_count": 96
        }
      ]
    },
    {
      "cell_type": "code",
      "source": [
        "df_inicial['Ano atual do curso'] = df_inicial['Ano atual do curso']. replace(['year 1','Year 1'], '1 ano')\n",
        "df_inicial['Ano atual do curso'] = df_inicial['Ano atual do curso']. replace(['year 2','Year 2'], '2 ano')\n",
        "df_inicial['Ano atual do curso'] = df_inicial['Ano atual do curso']. replace(['year 3','Year 3'], '3 ano')\n",
        "df_inicial['Ano atual do curso'] = df_inicial['Ano atual do curso']. replace(['year 4','Year 4'], '4 ano')"
      ],
      "metadata": {
        "id": "7sAv2OdsCcuk"
      },
      "execution_count": 97,
      "outputs": []
    },
    {
      "cell_type": "code",
      "source": [
        "df_inicial['Ano atual do curso'].unique()"
      ],
      "metadata": {
        "colab": {
          "base_uri": "https://localhost:8080/"
        },
        "id": "ETftRRSLC1Mw",
        "outputId": "a8be6c94-d560-4d37-bff2-19369f237e14"
      },
      "execution_count": 98,
      "outputs": [
        {
          "output_type": "execute_result",
          "data": {
            "text/plain": [
              "array(['1 ano', '2 ano', '3 ano', '4 ano'], dtype=object)"
            ]
          },
          "metadata": {},
          "execution_count": 98
        }
      ]
    },
    {
      "cell_type": "code",
      "source": [
        "df_inicial['Média Notas'].unique() "
      ],
      "metadata": {
        "colab": {
          "base_uri": "https://localhost:8080/"
        },
        "id": "7kyC9pZV9JyK",
        "outputId": "a8051cd6-c8aa-4d41-e0a2-cdb74e88f9e3"
      },
      "execution_count": 99,
      "outputs": [
        {
          "output_type": "execute_result",
          "data": {
            "text/plain": [
              "array(['3.00 - 3.49', '3.50 - 4.00', '2.50 - 2.99', '2.00 - 2.49',\n",
              "       '0 - 1.99'], dtype=object)"
            ]
          },
          "metadata": {},
          "execution_count": 99
        }
      ]
    },
    {
      "cell_type": "code",
      "source": [
        "#convertendo para float e corrigindo os valores para a maior opção\n",
        "df_inicial['Média Notas'] = df_inicial['Média Notas'].replace(['0 - 1.99'], '1.99')"
      ],
      "metadata": {
        "id": "_gchcnjQ-RQC"
      },
      "execution_count": 100,
      "outputs": []
    },
    {
      "cell_type": "code",
      "source": [
        "df_inicial['Média Notas'] = df_inicial['Média Notas'].replace(['2.00 - 2.49'], '2.49')"
      ],
      "metadata": {
        "id": "xFu_r3Rw_KjB"
      },
      "execution_count": 101,
      "outputs": []
    },
    {
      "cell_type": "code",
      "source": [
        "df_inicial['Média Notas'] = df_inicial['Média Notas'].replace(['2.50 - 2.99'], '2.99')"
      ],
      "metadata": {
        "id": "gjfYhB1v_Sal"
      },
      "execution_count": 102,
      "outputs": []
    },
    {
      "cell_type": "code",
      "source": [
        "df_inicial['Média Notas'] = df_inicial['Média Notas'].replace(['3.00 - 3.49'], '3.49')"
      ],
      "metadata": {
        "id": "0kCJV6xI_W-u"
      },
      "execution_count": 103,
      "outputs": []
    },
    {
      "cell_type": "code",
      "source": [
        "df_inicial['Média Notas'] = df_inicial['Média Notas'].replace(['3.50 - 4.00'], '4.00')\n",
        "df_inicial['Média Notas'] = df_inicial['Média Notas'].astype(float)"
      ],
      "metadata": {
        "id": "-Yvb7dxY_eRl"
      },
      "execution_count": 104,
      "outputs": []
    },
    {
      "cell_type": "code",
      "source": [
        "df_inicial['Média Notas'].unique() "
      ],
      "metadata": {
        "colab": {
          "base_uri": "https://localhost:8080/"
        },
        "id": "fnvU-nKG_sP_",
        "outputId": "131f4b21-ebf9-4fc7-b67f-09e47c9af5aa"
      },
      "execution_count": 105,
      "outputs": [
        {
          "output_type": "execute_result",
          "data": {
            "text/plain": [
              "array([3.49, 4.  , 2.99, 2.49, 1.99])"
            ]
          },
          "metadata": {},
          "execution_count": 105
        }
      ]
    },
    {
      "cell_type": "code",
      "source": [
        "df_inicial['Estado Civil'].unique() "
      ],
      "metadata": {
        "colab": {
          "base_uri": "https://localhost:8080/"
        },
        "id": "MePFXxthAivO",
        "outputId": "c5dd974e-a4e1-481a-df8f-c3b2afccf645"
      },
      "execution_count": 106,
      "outputs": [
        {
          "output_type": "execute_result",
          "data": {
            "text/plain": [
              "array(['No', 'Yes'], dtype=object)"
            ]
          },
          "metadata": {},
          "execution_count": 106
        }
      ]
    },
    {
      "cell_type": "code",
      "source": [
        "df_inicial['Estado Civil'] = df_inicial['Estado Civil'].replace('No', 'Não')\n",
        "df_inicial['Estado Civil'] = df_inicial['Estado Civil'].replace('Yes', 'Sim')"
      ],
      "metadata": {
        "id": "Veeqz74TDC-4"
      },
      "execution_count": 107,
      "outputs": []
    },
    {
      "cell_type": "code",
      "source": [
        "df_inicial['Depressão'].unique() "
      ],
      "metadata": {
        "colab": {
          "base_uri": "https://localhost:8080/"
        },
        "id": "VBuhum9uAvE6",
        "outputId": "128eb96a-d060-4d55-f721-a9b3111621fc"
      },
      "execution_count": 108,
      "outputs": [
        {
          "output_type": "execute_result",
          "data": {
            "text/plain": [
              "array(['Yes', 'No'], dtype=object)"
            ]
          },
          "metadata": {},
          "execution_count": 108
        }
      ]
    },
    {
      "cell_type": "code",
      "source": [
        "df_inicial['Depressão'] = df_inicial['Depressão'].replace('No', 'Não')\n",
        "df_inicial['Depressão'] = df_inicial['Depressão'].replace('Yes', 'Sim')"
      ],
      "metadata": {
        "id": "TdwGOKneDU7-"
      },
      "execution_count": 109,
      "outputs": []
    },
    {
      "cell_type": "code",
      "source": [
        "df_inicial['Ansiedade'].unique() "
      ],
      "metadata": {
        "colab": {
          "base_uri": "https://localhost:8080/"
        },
        "id": "vaPg0STUAx9Z",
        "outputId": "38a41d8a-16e4-4f86-b5dd-77aec7cbbae5"
      },
      "execution_count": 110,
      "outputs": [
        {
          "output_type": "execute_result",
          "data": {
            "text/plain": [
              "array(['No', 'Yes'], dtype=object)"
            ]
          },
          "metadata": {},
          "execution_count": 110
        }
      ]
    },
    {
      "cell_type": "code",
      "source": [
        "df_inicial['Ansiedade'] = df_inicial['Ansiedade'].replace('No', 'Não')\n",
        "df_inicial['Ansiedade'] = df_inicial['Ansiedade'].replace('Yes', 'Sim')"
      ],
      "metadata": {
        "id": "iAXifXdEDZgW"
      },
      "execution_count": 111,
      "outputs": []
    },
    {
      "cell_type": "code",
      "source": [
        "df_inicial['Ataque de Pânico'].unique() "
      ],
      "metadata": {
        "colab": {
          "base_uri": "https://localhost:8080/"
        },
        "id": "Nbsm2Z5uA0ZG",
        "outputId": "6c0e65be-20f1-466d-a743-3b7d97d59605"
      },
      "execution_count": 112,
      "outputs": [
        {
          "output_type": "execute_result",
          "data": {
            "text/plain": [
              "array(['Yes', 'No'], dtype=object)"
            ]
          },
          "metadata": {},
          "execution_count": 112
        }
      ]
    },
    {
      "cell_type": "code",
      "source": [
        "df_inicial['Ataque de Pânico'] = df_inicial['Ataque de Pânico'].replace('No', 'Não')\n",
        "df_inicial['Ataque de Pânico'] = df_inicial['Ataque de Pânico'].replace('Yes', 'Sim')"
      ],
      "metadata": {
        "id": "2jc9Xp6ZDeHB"
      },
      "execution_count": 113,
      "outputs": []
    },
    {
      "cell_type": "code",
      "source": [
        "df_inicial['Tratamento Profissional'].unique() "
      ],
      "metadata": {
        "colab": {
          "base_uri": "https://localhost:8080/"
        },
        "id": "yo_pkeUzCERp",
        "outputId": "0b9c5375-8090-4e3d-a37d-419e882e6f4a"
      },
      "execution_count": 114,
      "outputs": [
        {
          "output_type": "execute_result",
          "data": {
            "text/plain": [
              "array(['No', 'Yes'], dtype=object)"
            ]
          },
          "metadata": {},
          "execution_count": 114
        }
      ]
    },
    {
      "cell_type": "code",
      "source": [
        "df_inicial['Tratamento Profissional'] = df_inicial['Tratamento Profissional'].replace('No', 'Não')\n",
        "df_inicial['Tratamento Profissional'] = df_inicial['Tratamento Profissional'].replace('Yes', 'Sim')"
      ],
      "metadata": {
        "id": "wmwRkSL-DkBe"
      },
      "execution_count": 115,
      "outputs": []
    },
    {
      "cell_type": "code",
      "source": [
        "df_inicial.head()"
      ],
      "metadata": {
        "colab": {
          "base_uri": "https://localhost:8080/",
          "height": 0
        },
        "id": "utLjJBWLDpmt",
        "outputId": "697d93d2-21ca-4007-87f5-66b1ca9c021d"
      },
      "execution_count": 116,
      "outputs": [
        {
          "output_type": "execute_result",
          "data": {
            "text/plain": [
              "        Sexo  Idade Ano atual do curso  Média Notas Estado Civil Depressão  \\\n",
              "0   Feminino     18              1 ano         3.49          Não       Sim   \n",
              "1  Masculino     21              2 ano         3.49          Não       Não   \n",
              "2  Masculino     19              1 ano         3.49          Não       Sim   \n",
              "3   Feminino     22              3 ano         3.49          Sim       Sim   \n",
              "4  Masculino     23              4 ano         3.49          Não       Não   \n",
              "\n",
              "  Ansiedade Ataque de Pânico Tratamento Profissional  \n",
              "0       Não              Sim                     Não  \n",
              "1       Sim              Não                     Não  \n",
              "2       Sim              Sim                     Não  \n",
              "3       Não              Não                     Não  \n",
              "4       Não              Não                     Não  "
            ],
            "text/html": [
              "\n",
              "  <div id=\"df-0b5b3a71-a935-4547-9ee2-bd6f35415aa4\">\n",
              "    <div class=\"colab-df-container\">\n",
              "      <div>\n",
              "<style scoped>\n",
              "    .dataframe tbody tr th:only-of-type {\n",
              "        vertical-align: middle;\n",
              "    }\n",
              "\n",
              "    .dataframe tbody tr th {\n",
              "        vertical-align: top;\n",
              "    }\n",
              "\n",
              "    .dataframe thead th {\n",
              "        text-align: right;\n",
              "    }\n",
              "</style>\n",
              "<table border=\"1\" class=\"dataframe\">\n",
              "  <thead>\n",
              "    <tr style=\"text-align: right;\">\n",
              "      <th></th>\n",
              "      <th>Sexo</th>\n",
              "      <th>Idade</th>\n",
              "      <th>Ano atual do curso</th>\n",
              "      <th>Média Notas</th>\n",
              "      <th>Estado Civil</th>\n",
              "      <th>Depressão</th>\n",
              "      <th>Ansiedade</th>\n",
              "      <th>Ataque de Pânico</th>\n",
              "      <th>Tratamento Profissional</th>\n",
              "    </tr>\n",
              "  </thead>\n",
              "  <tbody>\n",
              "    <tr>\n",
              "      <th>0</th>\n",
              "      <td>Feminino</td>\n",
              "      <td>18</td>\n",
              "      <td>1 ano</td>\n",
              "      <td>3.49</td>\n",
              "      <td>Não</td>\n",
              "      <td>Sim</td>\n",
              "      <td>Não</td>\n",
              "      <td>Sim</td>\n",
              "      <td>Não</td>\n",
              "    </tr>\n",
              "    <tr>\n",
              "      <th>1</th>\n",
              "      <td>Masculino</td>\n",
              "      <td>21</td>\n",
              "      <td>2 ano</td>\n",
              "      <td>3.49</td>\n",
              "      <td>Não</td>\n",
              "      <td>Não</td>\n",
              "      <td>Sim</td>\n",
              "      <td>Não</td>\n",
              "      <td>Não</td>\n",
              "    </tr>\n",
              "    <tr>\n",
              "      <th>2</th>\n",
              "      <td>Masculino</td>\n",
              "      <td>19</td>\n",
              "      <td>1 ano</td>\n",
              "      <td>3.49</td>\n",
              "      <td>Não</td>\n",
              "      <td>Sim</td>\n",
              "      <td>Sim</td>\n",
              "      <td>Sim</td>\n",
              "      <td>Não</td>\n",
              "    </tr>\n",
              "    <tr>\n",
              "      <th>3</th>\n",
              "      <td>Feminino</td>\n",
              "      <td>22</td>\n",
              "      <td>3 ano</td>\n",
              "      <td>3.49</td>\n",
              "      <td>Sim</td>\n",
              "      <td>Sim</td>\n",
              "      <td>Não</td>\n",
              "      <td>Não</td>\n",
              "      <td>Não</td>\n",
              "    </tr>\n",
              "    <tr>\n",
              "      <th>4</th>\n",
              "      <td>Masculino</td>\n",
              "      <td>23</td>\n",
              "      <td>4 ano</td>\n",
              "      <td>3.49</td>\n",
              "      <td>Não</td>\n",
              "      <td>Não</td>\n",
              "      <td>Não</td>\n",
              "      <td>Não</td>\n",
              "      <td>Não</td>\n",
              "    </tr>\n",
              "  </tbody>\n",
              "</table>\n",
              "</div>\n",
              "      <button class=\"colab-df-convert\" onclick=\"convertToInteractive('df-0b5b3a71-a935-4547-9ee2-bd6f35415aa4')\"\n",
              "              title=\"Convert this dataframe to an interactive table.\"\n",
              "              style=\"display:none;\">\n",
              "        \n",
              "  <svg xmlns=\"http://www.w3.org/2000/svg\" height=\"24px\"viewBox=\"0 0 24 24\"\n",
              "       width=\"24px\">\n",
              "    <path d=\"M0 0h24v24H0V0z\" fill=\"none\"/>\n",
              "    <path d=\"M18.56 5.44l.94 2.06.94-2.06 2.06-.94-2.06-.94-.94-2.06-.94 2.06-2.06.94zm-11 1L8.5 8.5l.94-2.06 2.06-.94-2.06-.94L8.5 2.5l-.94 2.06-2.06.94zm10 10l.94 2.06.94-2.06 2.06-.94-2.06-.94-.94-2.06-.94 2.06-2.06.94z\"/><path d=\"M17.41 7.96l-1.37-1.37c-.4-.4-.92-.59-1.43-.59-.52 0-1.04.2-1.43.59L10.3 9.45l-7.72 7.72c-.78.78-.78 2.05 0 2.83L4 21.41c.39.39.9.59 1.41.59.51 0 1.02-.2 1.41-.59l7.78-7.78 2.81-2.81c.8-.78.8-2.07 0-2.86zM5.41 20L4 18.59l7.72-7.72 1.47 1.35L5.41 20z\"/>\n",
              "  </svg>\n",
              "      </button>\n",
              "      \n",
              "  <style>\n",
              "    .colab-df-container {\n",
              "      display:flex;\n",
              "      flex-wrap:wrap;\n",
              "      gap: 12px;\n",
              "    }\n",
              "\n",
              "    .colab-df-convert {\n",
              "      background-color: #E8F0FE;\n",
              "      border: none;\n",
              "      border-radius: 50%;\n",
              "      cursor: pointer;\n",
              "      display: none;\n",
              "      fill: #1967D2;\n",
              "      height: 32px;\n",
              "      padding: 0 0 0 0;\n",
              "      width: 32px;\n",
              "    }\n",
              "\n",
              "    .colab-df-convert:hover {\n",
              "      background-color: #E2EBFA;\n",
              "      box-shadow: 0px 1px 2px rgba(60, 64, 67, 0.3), 0px 1px 3px 1px rgba(60, 64, 67, 0.15);\n",
              "      fill: #174EA6;\n",
              "    }\n",
              "\n",
              "    [theme=dark] .colab-df-convert {\n",
              "      background-color: #3B4455;\n",
              "      fill: #D2E3FC;\n",
              "    }\n",
              "\n",
              "    [theme=dark] .colab-df-convert:hover {\n",
              "      background-color: #434B5C;\n",
              "      box-shadow: 0px 1px 3px 1px rgba(0, 0, 0, 0.15);\n",
              "      filter: drop-shadow(0px 1px 2px rgba(0, 0, 0, 0.3));\n",
              "      fill: #FFFFFF;\n",
              "    }\n",
              "  </style>\n",
              "\n",
              "      <script>\n",
              "        const buttonEl =\n",
              "          document.querySelector('#df-0b5b3a71-a935-4547-9ee2-bd6f35415aa4 button.colab-df-convert');\n",
              "        buttonEl.style.display =\n",
              "          google.colab.kernel.accessAllowed ? 'block' : 'none';\n",
              "\n",
              "        async function convertToInteractive(key) {\n",
              "          const element = document.querySelector('#df-0b5b3a71-a935-4547-9ee2-bd6f35415aa4');\n",
              "          const dataTable =\n",
              "            await google.colab.kernel.invokeFunction('convertToInteractive',\n",
              "                                                     [key], {});\n",
              "          if (!dataTable) return;\n",
              "\n",
              "          const docLinkHtml = 'Like what you see? Visit the ' +\n",
              "            '<a target=\"_blank\" href=https://colab.research.google.com/notebooks/data_table.ipynb>data table notebook</a>'\n",
              "            + ' to learn more about interactive tables.';\n",
              "          element.innerHTML = '';\n",
              "          dataTable['output_type'] = 'display_data';\n",
              "          await google.colab.output.renderOutput(dataTable, element);\n",
              "          const docLink = document.createElement('div');\n",
              "          docLink.innerHTML = docLinkHtml;\n",
              "          element.appendChild(docLink);\n",
              "        }\n",
              "      </script>\n",
              "    </div>\n",
              "  </div>\n",
              "  "
            ]
          },
          "metadata": {},
          "execution_count": 116
        }
      ]
    },
    {
      "cell_type": "code",
      "source": [
        "df_definitivo = df_inicial"
      ],
      "metadata": {
        "id": "WXGBGlxazfUK"
      },
      "execution_count": 117,
      "outputs": []
    },
    {
      "cell_type": "markdown",
      "source": [
        "## Transformando variáveis nominais em numéricas ordinais:"
      ],
      "metadata": {
        "id": "28dDRBwZye49"
      }
    },
    {
      "cell_type": "code",
      "source": [
        "df_definitivo.dtypes"
      ],
      "metadata": {
        "colab": {
          "base_uri": "https://localhost:8080/"
        },
        "id": "gDSmKVmz-dmF",
        "outputId": "3aa0f4dc-ce37-43a7-ebc8-072a7b843f57"
      },
      "execution_count": 118,
      "outputs": [
        {
          "output_type": "execute_result",
          "data": {
            "text/plain": [
              "Sexo                        object\n",
              "Idade                        int64\n",
              "Ano atual do curso          object\n",
              "Média Notas                float64\n",
              "Estado Civil                object\n",
              "Depressão                   object\n",
              "Ansiedade                   object\n",
              "Ataque de Pânico            object\n",
              "Tratamento Profissional     object\n",
              "dtype: object"
            ]
          },
          "metadata": {},
          "execution_count": 118
        }
      ]
    },
    {
      "cell_type": "code",
      "source": [
        "df_definitivo['Sexo'].replace({'Feminino':0, 'Masculino': 1}, inplace=True)\n",
        "df_definitivo['Ano atual do curso'].replace({'1 ano':0, '2 ano': 1, '3 ano': 2, '4 ano': 3}, inplace=True)\n",
        "df_definitivo['Estado Civil'].replace({'Não': 0,'Sim': 1}, inplace=True)\n",
        "df_definitivo['Depressão'].replace({'Não': 0,'Sim': 1}, inplace=True)\n",
        "df_definitivo['Ansiedade'].replace({'Não': 0,'Sim': 1}, inplace=True)\n",
        "df_definitivo['Ataque de Pânico'].replace({'Não': 0,'Sim': 1}, inplace=True)\n",
        "df_definitivo['Tratamento Profissional'].replace({'Não': 0,'Sim': 1}, inplace=True)"
      ],
      "metadata": {
        "id": "aezdBZuKzsr0"
      },
      "execution_count": 119,
      "outputs": []
    },
    {
      "cell_type": "code",
      "source": [
        "df_definitivo.info()"
      ],
      "metadata": {
        "colab": {
          "base_uri": "https://localhost:8080/"
        },
        "id": "3MYGUAm-y-jQ",
        "outputId": "2f0b545c-4994-4e91-c7ba-462f45375948"
      },
      "execution_count": 120,
      "outputs": [
        {
          "output_type": "stream",
          "name": "stdout",
          "text": [
            "<class 'pandas.core.frame.DataFrame'>\n",
            "Int64Index: 100 entries, 0 to 100\n",
            "Data columns (total 9 columns):\n",
            " #   Column                   Non-Null Count  Dtype  \n",
            "---  ------                   --------------  -----  \n",
            " 0   Sexo                     100 non-null    int64  \n",
            " 1   Idade                    100 non-null    int64  \n",
            " 2   Ano atual do curso       100 non-null    int64  \n",
            " 3   Média Notas              100 non-null    float64\n",
            " 4   Estado Civil             100 non-null    int64  \n",
            " 5   Depressão                100 non-null    int64  \n",
            " 6   Ansiedade                100 non-null    int64  \n",
            " 7   Ataque de Pânico         100 non-null    int64  \n",
            " 8   Tratamento Profissional  100 non-null    int64  \n",
            "dtypes: float64(1), int64(8)\n",
            "memory usage: 7.8 KB\n"
          ]
        }
      ]
    },
    {
      "cell_type": "code",
      "source": [
        "df_definitivo.head()"
      ],
      "metadata": {
        "colab": {
          "base_uri": "https://localhost:8080/",
          "height": 0
        },
        "id": "Ss0OCHhjHSxu",
        "outputId": "79699d54-863b-4d33-e465-8b08c61558ff"
      },
      "execution_count": 121,
      "outputs": [
        {
          "output_type": "execute_result",
          "data": {
            "text/plain": [
              "   Sexo  Idade  Ano atual do curso  Média Notas  Estado Civil  Depressão  \\\n",
              "0     0     18                   0         3.49             0          1   \n",
              "1     1     21                   1         3.49             0          0   \n",
              "2     1     19                   0         3.49             0          1   \n",
              "3     0     22                   2         3.49             1          1   \n",
              "4     1     23                   3         3.49             0          0   \n",
              "\n",
              "   Ansiedade  Ataque de Pânico  Tratamento Profissional  \n",
              "0          0                 1                        0  \n",
              "1          1                 0                        0  \n",
              "2          1                 1                        0  \n",
              "3          0                 0                        0  \n",
              "4          0                 0                        0  "
            ],
            "text/html": [
              "\n",
              "  <div id=\"df-74befa23-eb20-4994-9cff-abf9dacefa74\">\n",
              "    <div class=\"colab-df-container\">\n",
              "      <div>\n",
              "<style scoped>\n",
              "    .dataframe tbody tr th:only-of-type {\n",
              "        vertical-align: middle;\n",
              "    }\n",
              "\n",
              "    .dataframe tbody tr th {\n",
              "        vertical-align: top;\n",
              "    }\n",
              "\n",
              "    .dataframe thead th {\n",
              "        text-align: right;\n",
              "    }\n",
              "</style>\n",
              "<table border=\"1\" class=\"dataframe\">\n",
              "  <thead>\n",
              "    <tr style=\"text-align: right;\">\n",
              "      <th></th>\n",
              "      <th>Sexo</th>\n",
              "      <th>Idade</th>\n",
              "      <th>Ano atual do curso</th>\n",
              "      <th>Média Notas</th>\n",
              "      <th>Estado Civil</th>\n",
              "      <th>Depressão</th>\n",
              "      <th>Ansiedade</th>\n",
              "      <th>Ataque de Pânico</th>\n",
              "      <th>Tratamento Profissional</th>\n",
              "    </tr>\n",
              "  </thead>\n",
              "  <tbody>\n",
              "    <tr>\n",
              "      <th>0</th>\n",
              "      <td>0</td>\n",
              "      <td>18</td>\n",
              "      <td>0</td>\n",
              "      <td>3.49</td>\n",
              "      <td>0</td>\n",
              "      <td>1</td>\n",
              "      <td>0</td>\n",
              "      <td>1</td>\n",
              "      <td>0</td>\n",
              "    </tr>\n",
              "    <tr>\n",
              "      <th>1</th>\n",
              "      <td>1</td>\n",
              "      <td>21</td>\n",
              "      <td>1</td>\n",
              "      <td>3.49</td>\n",
              "      <td>0</td>\n",
              "      <td>0</td>\n",
              "      <td>1</td>\n",
              "      <td>0</td>\n",
              "      <td>0</td>\n",
              "    </tr>\n",
              "    <tr>\n",
              "      <th>2</th>\n",
              "      <td>1</td>\n",
              "      <td>19</td>\n",
              "      <td>0</td>\n",
              "      <td>3.49</td>\n",
              "      <td>0</td>\n",
              "      <td>1</td>\n",
              "      <td>1</td>\n",
              "      <td>1</td>\n",
              "      <td>0</td>\n",
              "    </tr>\n",
              "    <tr>\n",
              "      <th>3</th>\n",
              "      <td>0</td>\n",
              "      <td>22</td>\n",
              "      <td>2</td>\n",
              "      <td>3.49</td>\n",
              "      <td>1</td>\n",
              "      <td>1</td>\n",
              "      <td>0</td>\n",
              "      <td>0</td>\n",
              "      <td>0</td>\n",
              "    </tr>\n",
              "    <tr>\n",
              "      <th>4</th>\n",
              "      <td>1</td>\n",
              "      <td>23</td>\n",
              "      <td>3</td>\n",
              "      <td>3.49</td>\n",
              "      <td>0</td>\n",
              "      <td>0</td>\n",
              "      <td>0</td>\n",
              "      <td>0</td>\n",
              "      <td>0</td>\n",
              "    </tr>\n",
              "  </tbody>\n",
              "</table>\n",
              "</div>\n",
              "      <button class=\"colab-df-convert\" onclick=\"convertToInteractive('df-74befa23-eb20-4994-9cff-abf9dacefa74')\"\n",
              "              title=\"Convert this dataframe to an interactive table.\"\n",
              "              style=\"display:none;\">\n",
              "        \n",
              "  <svg xmlns=\"http://www.w3.org/2000/svg\" height=\"24px\"viewBox=\"0 0 24 24\"\n",
              "       width=\"24px\">\n",
              "    <path d=\"M0 0h24v24H0V0z\" fill=\"none\"/>\n",
              "    <path d=\"M18.56 5.44l.94 2.06.94-2.06 2.06-.94-2.06-.94-.94-2.06-.94 2.06-2.06.94zm-11 1L8.5 8.5l.94-2.06 2.06-.94-2.06-.94L8.5 2.5l-.94 2.06-2.06.94zm10 10l.94 2.06.94-2.06 2.06-.94-2.06-.94-.94-2.06-.94 2.06-2.06.94z\"/><path d=\"M17.41 7.96l-1.37-1.37c-.4-.4-.92-.59-1.43-.59-.52 0-1.04.2-1.43.59L10.3 9.45l-7.72 7.72c-.78.78-.78 2.05 0 2.83L4 21.41c.39.39.9.59 1.41.59.51 0 1.02-.2 1.41-.59l7.78-7.78 2.81-2.81c.8-.78.8-2.07 0-2.86zM5.41 20L4 18.59l7.72-7.72 1.47 1.35L5.41 20z\"/>\n",
              "  </svg>\n",
              "      </button>\n",
              "      \n",
              "  <style>\n",
              "    .colab-df-container {\n",
              "      display:flex;\n",
              "      flex-wrap:wrap;\n",
              "      gap: 12px;\n",
              "    }\n",
              "\n",
              "    .colab-df-convert {\n",
              "      background-color: #E8F0FE;\n",
              "      border: none;\n",
              "      border-radius: 50%;\n",
              "      cursor: pointer;\n",
              "      display: none;\n",
              "      fill: #1967D2;\n",
              "      height: 32px;\n",
              "      padding: 0 0 0 0;\n",
              "      width: 32px;\n",
              "    }\n",
              "\n",
              "    .colab-df-convert:hover {\n",
              "      background-color: #E2EBFA;\n",
              "      box-shadow: 0px 1px 2px rgba(60, 64, 67, 0.3), 0px 1px 3px 1px rgba(60, 64, 67, 0.15);\n",
              "      fill: #174EA6;\n",
              "    }\n",
              "\n",
              "    [theme=dark] .colab-df-convert {\n",
              "      background-color: #3B4455;\n",
              "      fill: #D2E3FC;\n",
              "    }\n",
              "\n",
              "    [theme=dark] .colab-df-convert:hover {\n",
              "      background-color: #434B5C;\n",
              "      box-shadow: 0px 1px 3px 1px rgba(0, 0, 0, 0.15);\n",
              "      filter: drop-shadow(0px 1px 2px rgba(0, 0, 0, 0.3));\n",
              "      fill: #FFFFFF;\n",
              "    }\n",
              "  </style>\n",
              "\n",
              "      <script>\n",
              "        const buttonEl =\n",
              "          document.querySelector('#df-74befa23-eb20-4994-9cff-abf9dacefa74 button.colab-df-convert');\n",
              "        buttonEl.style.display =\n",
              "          google.colab.kernel.accessAllowed ? 'block' : 'none';\n",
              "\n",
              "        async function convertToInteractive(key) {\n",
              "          const element = document.querySelector('#df-74befa23-eb20-4994-9cff-abf9dacefa74');\n",
              "          const dataTable =\n",
              "            await google.colab.kernel.invokeFunction('convertToInteractive',\n",
              "                                                     [key], {});\n",
              "          if (!dataTable) return;\n",
              "\n",
              "          const docLinkHtml = 'Like what you see? Visit the ' +\n",
              "            '<a target=\"_blank\" href=https://colab.research.google.com/notebooks/data_table.ipynb>data table notebook</a>'\n",
              "            + ' to learn more about interactive tables.';\n",
              "          element.innerHTML = '';\n",
              "          dataTable['output_type'] = 'display_data';\n",
              "          await google.colab.output.renderOutput(dataTable, element);\n",
              "          const docLink = document.createElement('div');\n",
              "          docLink.innerHTML = docLinkHtml;\n",
              "          element.appendChild(docLink);\n",
              "        }\n",
              "      </script>\n",
              "    </div>\n",
              "  </div>\n",
              "  "
            ]
          },
          "metadata": {},
          "execution_count": 121
        }
      ]
    },
    {
      "cell_type": "markdown",
      "source": [
        "##Legendas após transformação de variáveis:"
      ],
      "metadata": {
        "id": "AKTIFZMw3KNH"
      }
    },
    {
      "cell_type": "markdown",
      "source": [
        "Sexo\n",
        "* Feminino = 0;\n",
        "* Masculino = 1; \n",
        "\n",
        "Ano do Curso\n",
        "* 1º Ano =  0;\n",
        "* 2º Ano =  1;\n",
        "* 3º Ano =  2;\n",
        "* 4º Ano =  3;\n",
        "\n",
        "Estado Civil\n",
        "* Solteiro = 0;\n",
        "* Casado = 1;\n",
        "\n",
        "Tem/Teve Depressão?\n",
        "* Não = 0;\n",
        "* Sim = 1;\n",
        "\n",
        "Tem/Teve Ansiedade?\n",
        "* Não = 0;\n",
        "* Sim = 1;\n",
        "\n",
        "Tem/Teve Ataque de Pânico?\n",
        "* Não = 0;\n",
        "* Sim = 1;\n",
        "\n",
        "Faz/fez tratamento profissional?\n",
        "* Não = 0;\n",
        "* Sim = 1;"
      ],
      "metadata": {
        "id": "ElRBwt1UlYxP"
      }
    },
    {
      "cell_type": "markdown",
      "source": [
        "## Definição dos Previsores e do Alvo:"
      ],
      "metadata": {
        "id": "huCeOFFviQDY"
      }
    },
    {
      "cell_type": "markdown",
      "source": [
        "Como dito na parte inicial do projeto, será utilizado o perfil dos estudantes com relação a idade, notas, ano de curso e o histórico de doenças psicológicas para prever a tendência de procura por Tratamento Profissional. Sendo assim, utilizaremos as outras colunas como **Previsores** e o **Alvo** será a coluna de **'Tratamento Profissional'**."
      ],
      "metadata": {
        "id": "H5JQf1A0Hh85"
      }
    },
    {
      "cell_type": "code",
      "source": [
        "df_definitivo.head(10)"
      ],
      "metadata": {
        "colab": {
          "base_uri": "https://localhost:8080/",
          "height": 0
        },
        "id": "d92ZCnrUq0X4",
        "outputId": "063bb732-eb99-44d0-8ef5-5f11ca050df6"
      },
      "execution_count": 122,
      "outputs": [
        {
          "output_type": "execute_result",
          "data": {
            "text/plain": [
              "   Sexo  Idade  Ano atual do curso  Média Notas  Estado Civil  Depressão  \\\n",
              "0     0     18                   0         3.49             0          1   \n",
              "1     1     21                   1         3.49             0          0   \n",
              "2     1     19                   0         3.49             0          1   \n",
              "3     0     22                   2         3.49             1          1   \n",
              "4     1     23                   3         3.49             0          0   \n",
              "5     1     19                   1         4.00             0          0   \n",
              "6     0     23                   1         4.00             1          1   \n",
              "7     0     18                   0         4.00             0          0   \n",
              "8     0     19                   1         2.99             0          0   \n",
              "9     1     18                   0         4.00             0          0   \n",
              "\n",
              "   Ansiedade  Ataque de Pânico  Tratamento Profissional  \n",
              "0          0                 1                        0  \n",
              "1          1                 0                        0  \n",
              "2          1                 1                        0  \n",
              "3          0                 0                        0  \n",
              "4          0                 0                        0  \n",
              "5          0                 1                        0  \n",
              "6          0                 1                        0  \n",
              "7          1                 0                        0  \n",
              "8          0                 0                        0  \n",
              "9          1                 1                        0  "
            ],
            "text/html": [
              "\n",
              "  <div id=\"df-d1de86f2-0e95-4695-b00c-4d399e98d865\">\n",
              "    <div class=\"colab-df-container\">\n",
              "      <div>\n",
              "<style scoped>\n",
              "    .dataframe tbody tr th:only-of-type {\n",
              "        vertical-align: middle;\n",
              "    }\n",
              "\n",
              "    .dataframe tbody tr th {\n",
              "        vertical-align: top;\n",
              "    }\n",
              "\n",
              "    .dataframe thead th {\n",
              "        text-align: right;\n",
              "    }\n",
              "</style>\n",
              "<table border=\"1\" class=\"dataframe\">\n",
              "  <thead>\n",
              "    <tr style=\"text-align: right;\">\n",
              "      <th></th>\n",
              "      <th>Sexo</th>\n",
              "      <th>Idade</th>\n",
              "      <th>Ano atual do curso</th>\n",
              "      <th>Média Notas</th>\n",
              "      <th>Estado Civil</th>\n",
              "      <th>Depressão</th>\n",
              "      <th>Ansiedade</th>\n",
              "      <th>Ataque de Pânico</th>\n",
              "      <th>Tratamento Profissional</th>\n",
              "    </tr>\n",
              "  </thead>\n",
              "  <tbody>\n",
              "    <tr>\n",
              "      <th>0</th>\n",
              "      <td>0</td>\n",
              "      <td>18</td>\n",
              "      <td>0</td>\n",
              "      <td>3.49</td>\n",
              "      <td>0</td>\n",
              "      <td>1</td>\n",
              "      <td>0</td>\n",
              "      <td>1</td>\n",
              "      <td>0</td>\n",
              "    </tr>\n",
              "    <tr>\n",
              "      <th>1</th>\n",
              "      <td>1</td>\n",
              "      <td>21</td>\n",
              "      <td>1</td>\n",
              "      <td>3.49</td>\n",
              "      <td>0</td>\n",
              "      <td>0</td>\n",
              "      <td>1</td>\n",
              "      <td>0</td>\n",
              "      <td>0</td>\n",
              "    </tr>\n",
              "    <tr>\n",
              "      <th>2</th>\n",
              "      <td>1</td>\n",
              "      <td>19</td>\n",
              "      <td>0</td>\n",
              "      <td>3.49</td>\n",
              "      <td>0</td>\n",
              "      <td>1</td>\n",
              "      <td>1</td>\n",
              "      <td>1</td>\n",
              "      <td>0</td>\n",
              "    </tr>\n",
              "    <tr>\n",
              "      <th>3</th>\n",
              "      <td>0</td>\n",
              "      <td>22</td>\n",
              "      <td>2</td>\n",
              "      <td>3.49</td>\n",
              "      <td>1</td>\n",
              "      <td>1</td>\n",
              "      <td>0</td>\n",
              "      <td>0</td>\n",
              "      <td>0</td>\n",
              "    </tr>\n",
              "    <tr>\n",
              "      <th>4</th>\n",
              "      <td>1</td>\n",
              "      <td>23</td>\n",
              "      <td>3</td>\n",
              "      <td>3.49</td>\n",
              "      <td>0</td>\n",
              "      <td>0</td>\n",
              "      <td>0</td>\n",
              "      <td>0</td>\n",
              "      <td>0</td>\n",
              "    </tr>\n",
              "    <tr>\n",
              "      <th>5</th>\n",
              "      <td>1</td>\n",
              "      <td>19</td>\n",
              "      <td>1</td>\n",
              "      <td>4.00</td>\n",
              "      <td>0</td>\n",
              "      <td>0</td>\n",
              "      <td>0</td>\n",
              "      <td>1</td>\n",
              "      <td>0</td>\n",
              "    </tr>\n",
              "    <tr>\n",
              "      <th>6</th>\n",
              "      <td>0</td>\n",
              "      <td>23</td>\n",
              "      <td>1</td>\n",
              "      <td>4.00</td>\n",
              "      <td>1</td>\n",
              "      <td>1</td>\n",
              "      <td>0</td>\n",
              "      <td>1</td>\n",
              "      <td>0</td>\n",
              "    </tr>\n",
              "    <tr>\n",
              "      <th>7</th>\n",
              "      <td>0</td>\n",
              "      <td>18</td>\n",
              "      <td>0</td>\n",
              "      <td>4.00</td>\n",
              "      <td>0</td>\n",
              "      <td>0</td>\n",
              "      <td>1</td>\n",
              "      <td>0</td>\n",
              "      <td>0</td>\n",
              "    </tr>\n",
              "    <tr>\n",
              "      <th>8</th>\n",
              "      <td>0</td>\n",
              "      <td>19</td>\n",
              "      <td>1</td>\n",
              "      <td>2.99</td>\n",
              "      <td>0</td>\n",
              "      <td>0</td>\n",
              "      <td>0</td>\n",
              "      <td>0</td>\n",
              "      <td>0</td>\n",
              "    </tr>\n",
              "    <tr>\n",
              "      <th>9</th>\n",
              "      <td>1</td>\n",
              "      <td>18</td>\n",
              "      <td>0</td>\n",
              "      <td>4.00</td>\n",
              "      <td>0</td>\n",
              "      <td>0</td>\n",
              "      <td>1</td>\n",
              "      <td>1</td>\n",
              "      <td>0</td>\n",
              "    </tr>\n",
              "  </tbody>\n",
              "</table>\n",
              "</div>\n",
              "      <button class=\"colab-df-convert\" onclick=\"convertToInteractive('df-d1de86f2-0e95-4695-b00c-4d399e98d865')\"\n",
              "              title=\"Convert this dataframe to an interactive table.\"\n",
              "              style=\"display:none;\">\n",
              "        \n",
              "  <svg xmlns=\"http://www.w3.org/2000/svg\" height=\"24px\"viewBox=\"0 0 24 24\"\n",
              "       width=\"24px\">\n",
              "    <path d=\"M0 0h24v24H0V0z\" fill=\"none\"/>\n",
              "    <path d=\"M18.56 5.44l.94 2.06.94-2.06 2.06-.94-2.06-.94-.94-2.06-.94 2.06-2.06.94zm-11 1L8.5 8.5l.94-2.06 2.06-.94-2.06-.94L8.5 2.5l-.94 2.06-2.06.94zm10 10l.94 2.06.94-2.06 2.06-.94-2.06-.94-.94-2.06-.94 2.06-2.06.94z\"/><path d=\"M17.41 7.96l-1.37-1.37c-.4-.4-.92-.59-1.43-.59-.52 0-1.04.2-1.43.59L10.3 9.45l-7.72 7.72c-.78.78-.78 2.05 0 2.83L4 21.41c.39.39.9.59 1.41.59.51 0 1.02-.2 1.41-.59l7.78-7.78 2.81-2.81c.8-.78.8-2.07 0-2.86zM5.41 20L4 18.59l7.72-7.72 1.47 1.35L5.41 20z\"/>\n",
              "  </svg>\n",
              "      </button>\n",
              "      \n",
              "  <style>\n",
              "    .colab-df-container {\n",
              "      display:flex;\n",
              "      flex-wrap:wrap;\n",
              "      gap: 12px;\n",
              "    }\n",
              "\n",
              "    .colab-df-convert {\n",
              "      background-color: #E8F0FE;\n",
              "      border: none;\n",
              "      border-radius: 50%;\n",
              "      cursor: pointer;\n",
              "      display: none;\n",
              "      fill: #1967D2;\n",
              "      height: 32px;\n",
              "      padding: 0 0 0 0;\n",
              "      width: 32px;\n",
              "    }\n",
              "\n",
              "    .colab-df-convert:hover {\n",
              "      background-color: #E2EBFA;\n",
              "      box-shadow: 0px 1px 2px rgba(60, 64, 67, 0.3), 0px 1px 3px 1px rgba(60, 64, 67, 0.15);\n",
              "      fill: #174EA6;\n",
              "    }\n",
              "\n",
              "    [theme=dark] .colab-df-convert {\n",
              "      background-color: #3B4455;\n",
              "      fill: #D2E3FC;\n",
              "    }\n",
              "\n",
              "    [theme=dark] .colab-df-convert:hover {\n",
              "      background-color: #434B5C;\n",
              "      box-shadow: 0px 1px 3px 1px rgba(0, 0, 0, 0.15);\n",
              "      filter: drop-shadow(0px 1px 2px rgba(0, 0, 0, 0.3));\n",
              "      fill: #FFFFFF;\n",
              "    }\n",
              "  </style>\n",
              "\n",
              "      <script>\n",
              "        const buttonEl =\n",
              "          document.querySelector('#df-d1de86f2-0e95-4695-b00c-4d399e98d865 button.colab-df-convert');\n",
              "        buttonEl.style.display =\n",
              "          google.colab.kernel.accessAllowed ? 'block' : 'none';\n",
              "\n",
              "        async function convertToInteractive(key) {\n",
              "          const element = document.querySelector('#df-d1de86f2-0e95-4695-b00c-4d399e98d865');\n",
              "          const dataTable =\n",
              "            await google.colab.kernel.invokeFunction('convertToInteractive',\n",
              "                                                     [key], {});\n",
              "          if (!dataTable) return;\n",
              "\n",
              "          const docLinkHtml = 'Like what you see? Visit the ' +\n",
              "            '<a target=\"_blank\" href=https://colab.research.google.com/notebooks/data_table.ipynb>data table notebook</a>'\n",
              "            + ' to learn more about interactive tables.';\n",
              "          element.innerHTML = '';\n",
              "          dataTable['output_type'] = 'display_data';\n",
              "          await google.colab.output.renderOutput(dataTable, element);\n",
              "          const docLink = document.createElement('div');\n",
              "          docLink.innerHTML = docLinkHtml;\n",
              "          element.appendChild(docLink);\n",
              "        }\n",
              "      </script>\n",
              "    </div>\n",
              "  </div>\n",
              "  "
            ]
          },
          "metadata": {},
          "execution_count": 122
        }
      ]
    },
    {
      "cell_type": "code",
      "source": [
        "#selecionando as colunas que serão usadas como previsores\n",
        "previsores = df_definitivo.iloc[:, 0:8].values"
      ],
      "metadata": {
        "id": "24HCIHZi4pvo"
      },
      "execution_count": 123,
      "outputs": []
    },
    {
      "cell_type": "code",
      "source": [
        "previsores"
      ],
      "metadata": {
        "colab": {
          "base_uri": "https://localhost:8080/"
        },
        "id": "NcarJrwVAldL",
        "outputId": "96e5685d-67cc-439e-c017-3251298ddf76"
      },
      "execution_count": 124,
      "outputs": [
        {
          "output_type": "execute_result",
          "data": {
            "text/plain": [
              "array([[ 0.  , 18.  ,  0.  ,  3.49,  0.  ,  1.  ,  0.  ,  1.  ],\n",
              "       [ 1.  , 21.  ,  1.  ,  3.49,  0.  ,  0.  ,  1.  ,  0.  ],\n",
              "       [ 1.  , 19.  ,  0.  ,  3.49,  0.  ,  1.  ,  1.  ,  1.  ],\n",
              "       [ 0.  , 22.  ,  2.  ,  3.49,  1.  ,  1.  ,  0.  ,  0.  ],\n",
              "       [ 1.  , 23.  ,  3.  ,  3.49,  0.  ,  0.  ,  0.  ,  0.  ],\n",
              "       [ 1.  , 19.  ,  1.  ,  4.  ,  0.  ,  0.  ,  0.  ,  1.  ],\n",
              "       [ 0.  , 23.  ,  1.  ,  4.  ,  1.  ,  1.  ,  0.  ,  1.  ],\n",
              "       [ 0.  , 18.  ,  0.  ,  4.  ,  0.  ,  0.  ,  1.  ,  0.  ],\n",
              "       [ 0.  , 19.  ,  1.  ,  2.99,  0.  ,  0.  ,  0.  ,  0.  ],\n",
              "       [ 1.  , 18.  ,  0.  ,  4.  ,  0.  ,  0.  ,  1.  ,  1.  ],\n",
              "       [ 0.  , 20.  ,  0.  ,  4.  ,  0.  ,  0.  ,  0.  ,  0.  ],\n",
              "       [ 0.  , 24.  ,  2.  ,  4.  ,  1.  ,  1.  ,  0.  ,  0.  ],\n",
              "       [ 0.  , 18.  ,  0.  ,  3.49,  0.  ,  1.  ,  0.  ,  0.  ],\n",
              "       [ 1.  , 19.  ,  0.  ,  3.49,  0.  ,  0.  ,  0.  ,  0.  ],\n",
              "       [ 0.  , 18.  ,  1.  ,  4.  ,  0.  ,  0.  ,  1.  ,  0.  ],\n",
              "       [ 1.  , 24.  ,  2.  ,  4.  ,  0.  ,  0.  ,  0.  ,  0.  ],\n",
              "       [ 0.  , 24.  ,  2.  ,  3.49,  0.  ,  0.  ,  0.  ,  0.  ],\n",
              "       [ 0.  , 24.  ,  3.  ,  3.49,  1.  ,  1.  ,  1.  ,  1.  ],\n",
              "       [ 0.  , 20.  ,  1.  ,  4.  ,  0.  ,  0.  ,  1.  ,  0.  ],\n",
              "       [ 0.  , 18.  ,  1.  ,  4.  ,  1.  ,  1.  ,  1.  ,  1.  ],\n",
              "       [ 0.  , 19.  ,  0.  ,  3.49,  0.  ,  0.  ,  0.  ,  1.  ],\n",
              "       [ 0.  , 18.  ,  1.  ,  3.49,  0.  ,  0.  ,  0.  ,  0.  ],\n",
              "       [ 0.  , 24.  ,  0.  ,  4.  ,  0.  ,  0.  ,  0.  ,  0.  ],\n",
              "       [ 0.  , 24.  ,  0.  ,  3.49,  0.  ,  0.  ,  0.  ,  0.  ],\n",
              "       [ 0.  , 23.  ,  2.  ,  4.  ,  0.  ,  1.  ,  1.  ,  1.  ],\n",
              "       [ 0.  , 18.  ,  0.  ,  4.  ,  0.  ,  0.  ,  0.  ,  0.  ],\n",
              "       [ 0.  , 19.  ,  0.  ,  4.  ,  0.  ,  0.  ,  0.  ,  0.  ],\n",
              "       [ 1.  , 18.  ,  1.  ,  3.49,  1.  ,  1.  ,  1.  ,  0.  ],\n",
              "       [ 0.  , 24.  ,  2.  ,  4.  ,  1.  ,  1.  ,  1.  ,  1.  ],\n",
              "       [ 0.  , 24.  ,  3.  ,  4.  ,  0.  ,  0.  ,  0.  ,  0.  ],\n",
              "       [ 0.  , 23.  ,  1.  ,  3.49,  0.  ,  0.  ,  0.  ,  0.  ],\n",
              "       [ 1.  , 18.  ,  1.  ,  3.49,  0.  ,  0.  ,  0.  ,  0.  ],\n",
              "       [ 1.  , 19.  ,  0.  ,  4.  ,  0.  ,  0.  ,  0.  ,  1.  ],\n",
              "       [ 1.  , 18.  ,  1.  ,  4.  ,  1.  ,  1.  ,  1.  ,  0.  ],\n",
              "       [ 0.  , 19.  ,  0.  ,  3.49,  0.  ,  1.  ,  1.  ,  1.  ],\n",
              "       [ 0.  , 18.  ,  0.  ,  2.49,  0.  ,  0.  ,  0.  ,  0.  ],\n",
              "       [ 0.  , 18.  ,  2.  ,  3.49,  0.  ,  1.  ,  1.  ,  0.  ],\n",
              "       [ 0.  , 19.  ,  0.  ,  2.99,  0.  ,  1.  ,  1.  ,  1.  ],\n",
              "       [ 0.  , 18.  ,  0.  ,  4.  ,  0.  ,  0.  ,  0.  ,  0.  ],\n",
              "       [ 0.  , 24.  ,  1.  ,  2.99,  1.  ,  1.  ,  0.  ,  1.  ],\n",
              "       [ 0.  , 24.  ,  2.  ,  3.49,  0.  ,  0.  ,  1.  ,  0.  ],\n",
              "       [ 0.  , 22.  ,  3.  ,  4.  ,  0.  ,  0.  ,  0.  ,  0.  ],\n",
              "       [ 0.  , 20.  ,  1.  ,  3.49,  0.  ,  1.  ,  0.  ,  0.  ],\n",
              "       [ 1.  , 23.  ,  1.  ,  4.  ,  0.  ,  0.  ,  0.  ,  1.  ],\n",
              "       [ 1.  , 18.  ,  0.  ,  4.  ,  0.  ,  0.  ,  1.  ,  1.  ],\n",
              "       [ 0.  , 19.  ,  0.  ,  4.  ,  0.  ,  0.  ,  1.  ,  0.  ],\n",
              "       [ 0.  , 18.  ,  3.  ,  4.  ,  0.  ,  0.  ,  0.  ,  0.  ],\n",
              "       [ 1.  , 24.  ,  1.  ,  3.49,  0.  ,  1.  ,  0.  ,  0.  ],\n",
              "       [ 0.  , 24.  ,  2.  ,  4.  ,  0.  ,  0.  ,  0.  ,  1.  ],\n",
              "       [ 0.  , 23.  ,  0.  ,  2.99,  1.  ,  1.  ,  0.  ,  1.  ],\n",
              "       [ 0.  , 18.  ,  1.  ,  4.  ,  0.  ,  0.  ,  1.  ,  0.  ],\n",
              "       [ 0.  , 19.  ,  2.  ,  3.49,  0.  ,  0.  ,  0.  ,  0.  ],\n",
              "       [ 0.  , 20.  ,  2.  ,  3.49,  1.  ,  1.  ,  1.  ,  1.  ],\n",
              "       [ 0.  , 19.  ,  0.  ,  4.  ,  0.  ,  1.  ,  0.  ,  1.  ],\n",
              "       [ 1.  , 21.  ,  0.  ,  3.49,  0.  ,  0.  ,  0.  ,  0.  ],\n",
              "       [ 1.  , 23.  ,  2.  ,  4.  ,  0.  ,  0.  ,  0.  ,  0.  ],\n",
              "       [ 0.  , 20.  ,  2.  ,  3.49,  0.  ,  1.  ,  1.  ,  0.  ],\n",
              "       [ 0.  , 18.  ,  0.  ,  4.  ,  0.  ,  0.  ,  0.  ,  0.  ],\n",
              "       [ 0.  , 23.  ,  0.  ,  3.49,  0.  ,  0.  ,  0.  ,  0.  ],\n",
              "       [ 0.  , 18.  ,  2.  ,  3.49,  0.  ,  0.  ,  0.  ,  1.  ],\n",
              "       [ 0.  , 19.  ,  0.  ,  4.  ,  0.  ,  0.  ,  0.  ,  0.  ],\n",
              "       [ 0.  , 18.  ,  0.  ,  4.  ,  0.  ,  0.  ,  0.  ,  1.  ],\n",
              "       [ 0.  , 24.  ,  0.  ,  4.  ,  0.  ,  0.  ,  0.  ,  1.  ],\n",
              "       [ 0.  , 24.  ,  0.  ,  4.  ,  0.  ,  0.  ,  0.  ,  0.  ],\n",
              "       [ 0.  , 23.  ,  0.  ,  4.  ,  0.  ,  1.  ,  1.  ,  0.  ],\n",
              "       [ 0.  , 18.  ,  2.  ,  3.49,  0.  ,  0.  ,  1.  ,  0.  ],\n",
              "       [ 1.  , 19.  ,  2.  ,  3.49,  1.  ,  1.  ,  0.  ,  1.  ],\n",
              "       [ 0.  , 18.  ,  0.  ,  4.  ,  0.  ,  1.  ,  0.  ,  0.  ],\n",
              "       [ 0.  , 24.  ,  3.  ,  3.49,  0.  ,  0.  ,  1.  ,  0.  ],\n",
              "       [ 0.  , 24.  ,  0.  ,  3.49,  0.  ,  0.  ,  0.  ,  0.  ],\n",
              "       [ 0.  , 18.  ,  2.  ,  4.  ,  0.  ,  0.  ,  0.  ,  1.  ],\n",
              "       [ 0.  , 19.  ,  2.  ,  3.49,  1.  ,  1.  ,  0.  ,  0.  ],\n",
              "       [ 1.  , 18.  ,  0.  ,  1.99,  0.  ,  0.  ,  0.  ,  0.  ],\n",
              "       [ 1.  , 24.  ,  2.  ,  4.  ,  0.  ,  0.  ,  1.  ,  0.  ],\n",
              "       [ 0.  , 24.  ,  0.  ,  4.  ,  0.  ,  0.  ,  1.  ,  1.  ],\n",
              "       [ 0.  , 23.  ,  0.  ,  3.49,  0.  ,  1.  ,  0.  ,  0.  ],\n",
              "       [ 0.  , 18.  ,  1.  ,  3.49,  0.  ,  0.  ,  0.  ,  1.  ],\n",
              "       [ 0.  , 19.  ,  2.  ,  1.99,  0.  ,  0.  ,  0.  ,  0.  ],\n",
              "       [ 0.  , 18.  ,  3.  ,  4.  ,  0.  ,  0.  ,  0.  ,  0.  ],\n",
              "       [ 0.  , 24.  ,  1.  ,  4.  ,  1.  ,  1.  ,  1.  ,  1.  ],\n",
              "       [ 0.  , 24.  ,  1.  ,  4.  ,  0.  ,  0.  ,  0.  ,  0.  ],\n",
              "       [ 0.  , 19.  ,  0.  ,  3.49,  0.  ,  1.  ,  1.  ,  0.  ],\n",
              "       [ 0.  , 19.  ,  1.  ,  3.49,  0.  ,  0.  ,  0.  ,  0.  ],\n",
              "       [ 1.  , 23.  ,  0.  ,  3.49,  0.  ,  0.  ,  0.  ,  0.  ],\n",
              "       [ 0.  , 18.  ,  0.  ,  4.  ,  0.  ,  1.  ,  1.  ,  0.  ],\n",
              "       [ 0.  , 19.  ,  2.  ,  3.49,  0.  ,  0.  ,  0.  ,  0.  ],\n",
              "       [ 0.  , 18.  ,  0.  ,  4.  ,  0.  ,  1.  ,  1.  ,  1.  ],\n",
              "       [ 1.  , 24.  ,  0.  ,  3.49,  0.  ,  0.  ,  1.  ,  0.  ],\n",
              "       [ 1.  , 24.  ,  1.  ,  2.49,  0.  ,  0.  ,  0.  ,  1.  ],\n",
              "       [ 0.  , 23.  ,  2.  ,  4.  ,  0.  ,  0.  ,  0.  ,  1.  ],\n",
              "       [ 1.  , 18.  ,  1.  ,  3.49,  0.  ,  0.  ,  1.  ,  0.  ],\n",
              "       [ 0.  , 19.  ,  1.  ,  3.49,  1.  ,  1.  ,  0.  ,  0.  ],\n",
              "       [ 0.  , 18.  ,  0.  ,  3.49,  0.  ,  1.  ,  0.  ,  0.  ],\n",
              "       [ 0.  , 24.  ,  2.  ,  1.99,  0.  ,  0.  ,  0.  ,  1.  ],\n",
              "       [ 0.  , 18.  ,  0.  ,  4.  ,  0.  ,  0.  ,  0.  ,  0.  ],\n",
              "       [ 0.  , 21.  ,  0.  ,  4.  ,  0.  ,  0.  ,  1.  ,  0.  ],\n",
              "       [ 1.  , 18.  ,  1.  ,  3.49,  0.  ,  1.  ,  1.  ,  0.  ],\n",
              "       [ 0.  , 19.  ,  2.  ,  4.  ,  1.  ,  1.  ,  0.  ,  1.  ],\n",
              "       [ 0.  , 23.  ,  3.  ,  4.  ,  0.  ,  0.  ,  0.  ,  0.  ],\n",
              "       [ 1.  , 20.  ,  1.  ,  3.49,  0.  ,  0.  ,  0.  ,  0.  ]])"
            ]
          },
          "metadata": {},
          "execution_count": 124
        }
      ]
    },
    {
      "cell_type": "code",
      "source": [
        "previsores.shape"
      ],
      "metadata": {
        "colab": {
          "base_uri": "https://localhost:8080/"
        },
        "id": "_H9B9IIzAr1g",
        "outputId": "14b46129-7b76-4f57-d39b-c58d43f9d6ce"
      },
      "execution_count": 125,
      "outputs": [
        {
          "output_type": "execute_result",
          "data": {
            "text/plain": [
              "(100, 8)"
            ]
          },
          "metadata": {},
          "execution_count": 125
        }
      ]
    },
    {
      "cell_type": "code",
      "source": [
        "#selecionando a coluna que será usada como alvo\n",
        "alvo = df_definitivo.iloc[:, 8].values"
      ],
      "metadata": {
        "id": "OjvhAQglBB2Q"
      },
      "execution_count": 126,
      "outputs": []
    },
    {
      "cell_type": "code",
      "source": [
        "alvo"
      ],
      "metadata": {
        "colab": {
          "base_uri": "https://localhost:8080/"
        },
        "id": "aICvm6GQj13W",
        "outputId": "15b00eaf-25c8-4aaa-fcda-3041ad82bddb"
      },
      "execution_count": 127,
      "outputs": [
        {
          "output_type": "execute_result",
          "data": {
            "text/plain": [
              "array([0, 0, 0, 0, 0, 0, 0, 0, 0, 0, 0, 0, 0, 0, 0, 0, 0, 0, 0, 0, 0, 0,\n",
              "       0, 0, 0, 0, 0, 0, 1, 0, 0, 0, 0, 1, 0, 0, 0, 0, 0, 1, 0, 0, 0, 0,\n",
              "       0, 0, 0, 0, 0, 1, 0, 0, 0, 1, 0, 0, 0, 0, 0, 0, 0, 0, 0, 0, 0, 0,\n",
              "       0, 0, 0, 0, 0, 0, 0, 0, 0, 0, 0, 0, 0, 0, 0, 0, 0, 0, 1, 0, 0, 0,\n",
              "       0, 0, 0, 0, 0, 0, 0, 0, 0, 0, 0, 0])"
            ]
          },
          "metadata": {},
          "execution_count": 127
        }
      ]
    },
    {
      "cell_type": "code",
      "source": [
        "alvo.shape"
      ],
      "metadata": {
        "colab": {
          "base_uri": "https://localhost:8080/"
        },
        "id": "LqniKkNVkA_Q",
        "outputId": "0ff6e983-eee7-4d4b-906f-089410c61fcb"
      },
      "execution_count": 128,
      "outputs": [
        {
          "output_type": "execute_result",
          "data": {
            "text/plain": [
              "(100,)"
            ]
          },
          "metadata": {},
          "execution_count": 128
        }
      ]
    },
    {
      "cell_type": "markdown",
      "source": [
        "##Escalonamento"
      ],
      "metadata": {
        "id": "pcHKHb9rkL2q"
      }
    },
    {
      "cell_type": "code",
      "source": [
        "df_definitivo.describe()"
      ],
      "metadata": {
        "colab": {
          "base_uri": "https://localhost:8080/",
          "height": 0
        },
        "id": "G9SJWb6RmvMQ",
        "outputId": "4f5eb976-cfad-4f45-d622-099121368f09"
      },
      "execution_count": 129,
      "outputs": [
        {
          "output_type": "execute_result",
          "data": {
            "text/plain": [
              "             Sexo      Idade  Ano atual do curso  Média Notas  Estado Civil  \\\n",
              "count  100.000000  100.00000          100.000000    100.00000    100.000000   \n",
              "mean     0.250000   20.53000            0.980000      3.64980      0.160000   \n",
              "std      0.435194    2.49628            0.994734      0.44587      0.368453   \n",
              "min      0.000000   18.00000            0.000000      1.99000      0.000000   \n",
              "25%      0.000000   18.00000            0.000000      3.49000      0.000000   \n",
              "50%      0.000000   19.00000            1.000000      3.49000      0.000000   \n",
              "75%      0.250000   23.00000            2.000000      4.00000      0.000000   \n",
              "max      1.000000   24.00000            3.000000      4.00000      1.000000   \n",
              "\n",
              "        Depressão   Ansiedade  Ataque de Pânico  Tratamento Profissional  \n",
              "count  100.000000  100.000000        100.000000               100.000000  \n",
              "mean     0.350000    0.340000          0.330000                 0.060000  \n",
              "std      0.479372    0.476095          0.472582                 0.238683  \n",
              "min      0.000000    0.000000          0.000000                 0.000000  \n",
              "25%      0.000000    0.000000          0.000000                 0.000000  \n",
              "50%      0.000000    0.000000          0.000000                 0.000000  \n",
              "75%      1.000000    1.000000          1.000000                 0.000000  \n",
              "max      1.000000    1.000000          1.000000                 1.000000  "
            ],
            "text/html": [
              "\n",
              "  <div id=\"df-36c1f7cb-09a2-4b76-8d70-19e59f2bcc35\">\n",
              "    <div class=\"colab-df-container\">\n",
              "      <div>\n",
              "<style scoped>\n",
              "    .dataframe tbody tr th:only-of-type {\n",
              "        vertical-align: middle;\n",
              "    }\n",
              "\n",
              "    .dataframe tbody tr th {\n",
              "        vertical-align: top;\n",
              "    }\n",
              "\n",
              "    .dataframe thead th {\n",
              "        text-align: right;\n",
              "    }\n",
              "</style>\n",
              "<table border=\"1\" class=\"dataframe\">\n",
              "  <thead>\n",
              "    <tr style=\"text-align: right;\">\n",
              "      <th></th>\n",
              "      <th>Sexo</th>\n",
              "      <th>Idade</th>\n",
              "      <th>Ano atual do curso</th>\n",
              "      <th>Média Notas</th>\n",
              "      <th>Estado Civil</th>\n",
              "      <th>Depressão</th>\n",
              "      <th>Ansiedade</th>\n",
              "      <th>Ataque de Pânico</th>\n",
              "      <th>Tratamento Profissional</th>\n",
              "    </tr>\n",
              "  </thead>\n",
              "  <tbody>\n",
              "    <tr>\n",
              "      <th>count</th>\n",
              "      <td>100.000000</td>\n",
              "      <td>100.00000</td>\n",
              "      <td>100.000000</td>\n",
              "      <td>100.00000</td>\n",
              "      <td>100.000000</td>\n",
              "      <td>100.000000</td>\n",
              "      <td>100.000000</td>\n",
              "      <td>100.000000</td>\n",
              "      <td>100.000000</td>\n",
              "    </tr>\n",
              "    <tr>\n",
              "      <th>mean</th>\n",
              "      <td>0.250000</td>\n",
              "      <td>20.53000</td>\n",
              "      <td>0.980000</td>\n",
              "      <td>3.64980</td>\n",
              "      <td>0.160000</td>\n",
              "      <td>0.350000</td>\n",
              "      <td>0.340000</td>\n",
              "      <td>0.330000</td>\n",
              "      <td>0.060000</td>\n",
              "    </tr>\n",
              "    <tr>\n",
              "      <th>std</th>\n",
              "      <td>0.435194</td>\n",
              "      <td>2.49628</td>\n",
              "      <td>0.994734</td>\n",
              "      <td>0.44587</td>\n",
              "      <td>0.368453</td>\n",
              "      <td>0.479372</td>\n",
              "      <td>0.476095</td>\n",
              "      <td>0.472582</td>\n",
              "      <td>0.238683</td>\n",
              "    </tr>\n",
              "    <tr>\n",
              "      <th>min</th>\n",
              "      <td>0.000000</td>\n",
              "      <td>18.00000</td>\n",
              "      <td>0.000000</td>\n",
              "      <td>1.99000</td>\n",
              "      <td>0.000000</td>\n",
              "      <td>0.000000</td>\n",
              "      <td>0.000000</td>\n",
              "      <td>0.000000</td>\n",
              "      <td>0.000000</td>\n",
              "    </tr>\n",
              "    <tr>\n",
              "      <th>25%</th>\n",
              "      <td>0.000000</td>\n",
              "      <td>18.00000</td>\n",
              "      <td>0.000000</td>\n",
              "      <td>3.49000</td>\n",
              "      <td>0.000000</td>\n",
              "      <td>0.000000</td>\n",
              "      <td>0.000000</td>\n",
              "      <td>0.000000</td>\n",
              "      <td>0.000000</td>\n",
              "    </tr>\n",
              "    <tr>\n",
              "      <th>50%</th>\n",
              "      <td>0.000000</td>\n",
              "      <td>19.00000</td>\n",
              "      <td>1.000000</td>\n",
              "      <td>3.49000</td>\n",
              "      <td>0.000000</td>\n",
              "      <td>0.000000</td>\n",
              "      <td>0.000000</td>\n",
              "      <td>0.000000</td>\n",
              "      <td>0.000000</td>\n",
              "    </tr>\n",
              "    <tr>\n",
              "      <th>75%</th>\n",
              "      <td>0.250000</td>\n",
              "      <td>23.00000</td>\n",
              "      <td>2.000000</td>\n",
              "      <td>4.00000</td>\n",
              "      <td>0.000000</td>\n",
              "      <td>1.000000</td>\n",
              "      <td>1.000000</td>\n",
              "      <td>1.000000</td>\n",
              "      <td>0.000000</td>\n",
              "    </tr>\n",
              "    <tr>\n",
              "      <th>max</th>\n",
              "      <td>1.000000</td>\n",
              "      <td>24.00000</td>\n",
              "      <td>3.000000</td>\n",
              "      <td>4.00000</td>\n",
              "      <td>1.000000</td>\n",
              "      <td>1.000000</td>\n",
              "      <td>1.000000</td>\n",
              "      <td>1.000000</td>\n",
              "      <td>1.000000</td>\n",
              "    </tr>\n",
              "  </tbody>\n",
              "</table>\n",
              "</div>\n",
              "      <button class=\"colab-df-convert\" onclick=\"convertToInteractive('df-36c1f7cb-09a2-4b76-8d70-19e59f2bcc35')\"\n",
              "              title=\"Convert this dataframe to an interactive table.\"\n",
              "              style=\"display:none;\">\n",
              "        \n",
              "  <svg xmlns=\"http://www.w3.org/2000/svg\" height=\"24px\"viewBox=\"0 0 24 24\"\n",
              "       width=\"24px\">\n",
              "    <path d=\"M0 0h24v24H0V0z\" fill=\"none\"/>\n",
              "    <path d=\"M18.56 5.44l.94 2.06.94-2.06 2.06-.94-2.06-.94-.94-2.06-.94 2.06-2.06.94zm-11 1L8.5 8.5l.94-2.06 2.06-.94-2.06-.94L8.5 2.5l-.94 2.06-2.06.94zm10 10l.94 2.06.94-2.06 2.06-.94-2.06-.94-.94-2.06-.94 2.06-2.06.94z\"/><path d=\"M17.41 7.96l-1.37-1.37c-.4-.4-.92-.59-1.43-.59-.52 0-1.04.2-1.43.59L10.3 9.45l-7.72 7.72c-.78.78-.78 2.05 0 2.83L4 21.41c.39.39.9.59 1.41.59.51 0 1.02-.2 1.41-.59l7.78-7.78 2.81-2.81c.8-.78.8-2.07 0-2.86zM5.41 20L4 18.59l7.72-7.72 1.47 1.35L5.41 20z\"/>\n",
              "  </svg>\n",
              "      </button>\n",
              "      \n",
              "  <style>\n",
              "    .colab-df-container {\n",
              "      display:flex;\n",
              "      flex-wrap:wrap;\n",
              "      gap: 12px;\n",
              "    }\n",
              "\n",
              "    .colab-df-convert {\n",
              "      background-color: #E8F0FE;\n",
              "      border: none;\n",
              "      border-radius: 50%;\n",
              "      cursor: pointer;\n",
              "      display: none;\n",
              "      fill: #1967D2;\n",
              "      height: 32px;\n",
              "      padding: 0 0 0 0;\n",
              "      width: 32px;\n",
              "    }\n",
              "\n",
              "    .colab-df-convert:hover {\n",
              "      background-color: #E2EBFA;\n",
              "      box-shadow: 0px 1px 2px rgba(60, 64, 67, 0.3), 0px 1px 3px 1px rgba(60, 64, 67, 0.15);\n",
              "      fill: #174EA6;\n",
              "    }\n",
              "\n",
              "    [theme=dark] .colab-df-convert {\n",
              "      background-color: #3B4455;\n",
              "      fill: #D2E3FC;\n",
              "    }\n",
              "\n",
              "    [theme=dark] .colab-df-convert:hover {\n",
              "      background-color: #434B5C;\n",
              "      box-shadow: 0px 1px 3px 1px rgba(0, 0, 0, 0.15);\n",
              "      filter: drop-shadow(0px 1px 2px rgba(0, 0, 0, 0.3));\n",
              "      fill: #FFFFFF;\n",
              "    }\n",
              "  </style>\n",
              "\n",
              "      <script>\n",
              "        const buttonEl =\n",
              "          document.querySelector('#df-36c1f7cb-09a2-4b76-8d70-19e59f2bcc35 button.colab-df-convert');\n",
              "        buttonEl.style.display =\n",
              "          google.colab.kernel.accessAllowed ? 'block' : 'none';\n",
              "\n",
              "        async function convertToInteractive(key) {\n",
              "          const element = document.querySelector('#df-36c1f7cb-09a2-4b76-8d70-19e59f2bcc35');\n",
              "          const dataTable =\n",
              "            await google.colab.kernel.invokeFunction('convertToInteractive',\n",
              "                                                     [key], {});\n",
              "          if (!dataTable) return;\n",
              "\n",
              "          const docLinkHtml = 'Like what you see? Visit the ' +\n",
              "            '<a target=\"_blank\" href=https://colab.research.google.com/notebooks/data_table.ipynb>data table notebook</a>'\n",
              "            + ' to learn more about interactive tables.';\n",
              "          element.innerHTML = '';\n",
              "          dataTable['output_type'] = 'display_data';\n",
              "          await google.colab.output.renderOutput(dataTable, element);\n",
              "          const docLink = document.createElement('div');\n",
              "          docLink.innerHTML = docLinkHtml;\n",
              "          element.appendChild(docLink);\n",
              "        }\n",
              "      </script>\n",
              "    </div>\n",
              "  </div>\n",
              "  "
            ]
          },
          "metadata": {},
          "execution_count": 129
        }
      ]
    },
    {
      "cell_type": "code",
      "source": [
        "previsores_esc = ss().fit_transform(previsores)\n",
        "previsores_esc"
      ],
      "metadata": {
        "id": "1kbByTgxm8K6",
        "colab": {
          "base_uri": "https://localhost:8080/"
        },
        "outputId": "b400edc8-297c-4e03-a5ca-e6c822c815af"
      },
      "execution_count": 130,
      "outputs": [
        {
          "output_type": "execute_result",
          "data": {
            "text/plain": [
              "array([[-0.57735027, -1.01861394, -0.99015159, -0.36020607, -0.43643578,\n",
              "         1.36277029, -0.71774056,  1.42488702],\n",
              "       [ 1.73205081,  0.18922868,  0.02020718, -0.36020607, -0.43643578,\n",
              "        -0.73379939,  1.39326109, -0.70181003],\n",
              "       [ 1.73205081, -0.61599974, -0.99015159, -0.36020607, -0.43643578,\n",
              "         1.36277029,  1.39326109,  1.42488702],\n",
              "       [-0.57735027,  0.59184288,  1.03056594, -0.36020607,  2.29128785,\n",
              "         1.36277029, -0.71774056, -0.70181003],\n",
              "       [ 1.73205081,  0.99445709,  2.0409247 , -0.36020607, -0.43643578,\n",
              "        -0.73379939, -0.71774056, -0.70181003],\n",
              "       [ 1.73205081, -0.61599974,  0.02020718,  0.78938778, -0.43643578,\n",
              "        -0.73379939, -0.71774056,  1.42488702],\n",
              "       [-0.57735027,  0.99445709,  0.02020718,  0.78938778,  2.29128785,\n",
              "         1.36277029, -0.71774056,  1.42488702],\n",
              "       [-0.57735027, -1.01861394, -0.99015159,  0.78938778, -0.43643578,\n",
              "        -0.73379939,  1.39326109, -0.70181003],\n",
              "       [-0.57735027, -0.61599974,  0.02020718, -1.48725887, -0.43643578,\n",
              "        -0.73379939, -0.71774056, -0.70181003],\n",
              "       [ 1.73205081, -1.01861394, -0.99015159,  0.78938778, -0.43643578,\n",
              "        -0.73379939,  1.39326109,  1.42488702],\n",
              "       [-0.57735027, -0.21338553, -0.99015159,  0.78938778, -0.43643578,\n",
              "        -0.73379939, -0.71774056, -0.70181003],\n",
              "       [-0.57735027,  1.3970713 ,  1.03056594,  0.78938778,  2.29128785,\n",
              "         1.36277029, -0.71774056, -0.70181003],\n",
              "       [-0.57735027, -1.01861394, -0.99015159, -0.36020607, -0.43643578,\n",
              "         1.36277029, -0.71774056, -0.70181003],\n",
              "       [ 1.73205081, -0.61599974, -0.99015159, -0.36020607, -0.43643578,\n",
              "        -0.73379939, -0.71774056, -0.70181003],\n",
              "       [-0.57735027, -1.01861394,  0.02020718,  0.78938778, -0.43643578,\n",
              "        -0.73379939,  1.39326109, -0.70181003],\n",
              "       [ 1.73205081,  1.3970713 ,  1.03056594,  0.78938778, -0.43643578,\n",
              "        -0.73379939, -0.71774056, -0.70181003],\n",
              "       [-0.57735027,  1.3970713 ,  1.03056594, -0.36020607, -0.43643578,\n",
              "        -0.73379939, -0.71774056, -0.70181003],\n",
              "       [-0.57735027,  1.3970713 ,  2.0409247 , -0.36020607,  2.29128785,\n",
              "         1.36277029,  1.39326109,  1.42488702],\n",
              "       [-0.57735027, -0.21338553,  0.02020718,  0.78938778, -0.43643578,\n",
              "        -0.73379939,  1.39326109, -0.70181003],\n",
              "       [-0.57735027, -1.01861394,  0.02020718,  0.78938778,  2.29128785,\n",
              "         1.36277029,  1.39326109,  1.42488702],\n",
              "       [-0.57735027, -0.61599974, -0.99015159, -0.36020607, -0.43643578,\n",
              "        -0.73379939, -0.71774056,  1.42488702],\n",
              "       [-0.57735027, -1.01861394,  0.02020718, -0.36020607, -0.43643578,\n",
              "        -0.73379939, -0.71774056, -0.70181003],\n",
              "       [-0.57735027,  1.3970713 , -0.99015159,  0.78938778, -0.43643578,\n",
              "        -0.73379939, -0.71774056, -0.70181003],\n",
              "       [-0.57735027,  1.3970713 , -0.99015159, -0.36020607, -0.43643578,\n",
              "        -0.73379939, -0.71774056, -0.70181003],\n",
              "       [-0.57735027,  0.99445709,  1.03056594,  0.78938778, -0.43643578,\n",
              "         1.36277029,  1.39326109,  1.42488702],\n",
              "       [-0.57735027, -1.01861394, -0.99015159,  0.78938778, -0.43643578,\n",
              "        -0.73379939, -0.71774056, -0.70181003],\n",
              "       [-0.57735027, -0.61599974, -0.99015159,  0.78938778, -0.43643578,\n",
              "        -0.73379939, -0.71774056, -0.70181003],\n",
              "       [ 1.73205081, -1.01861394,  0.02020718, -0.36020607,  2.29128785,\n",
              "         1.36277029,  1.39326109, -0.70181003],\n",
              "       [-0.57735027,  1.3970713 ,  1.03056594,  0.78938778,  2.29128785,\n",
              "         1.36277029,  1.39326109,  1.42488702],\n",
              "       [-0.57735027,  1.3970713 ,  2.0409247 ,  0.78938778, -0.43643578,\n",
              "        -0.73379939, -0.71774056, -0.70181003],\n",
              "       [-0.57735027,  0.99445709,  0.02020718, -0.36020607, -0.43643578,\n",
              "        -0.73379939, -0.71774056, -0.70181003],\n",
              "       [ 1.73205081, -1.01861394,  0.02020718, -0.36020607, -0.43643578,\n",
              "        -0.73379939, -0.71774056, -0.70181003],\n",
              "       [ 1.73205081, -0.61599974, -0.99015159,  0.78938778, -0.43643578,\n",
              "        -0.73379939, -0.71774056,  1.42488702],\n",
              "       [ 1.73205081, -1.01861394,  0.02020718,  0.78938778,  2.29128785,\n",
              "         1.36277029,  1.39326109, -0.70181003],\n",
              "       [-0.57735027, -0.61599974, -0.99015159, -0.36020607, -0.43643578,\n",
              "         1.36277029,  1.39326109,  1.42488702],\n",
              "       [-0.57735027, -1.01861394, -0.99015159, -2.61431167, -0.43643578,\n",
              "        -0.73379939, -0.71774056, -0.70181003],\n",
              "       [-0.57735027, -1.01861394,  1.03056594, -0.36020607, -0.43643578,\n",
              "         1.36277029,  1.39326109, -0.70181003],\n",
              "       [-0.57735027, -0.61599974, -0.99015159, -1.48725887, -0.43643578,\n",
              "         1.36277029,  1.39326109,  1.42488702],\n",
              "       [-0.57735027, -1.01861394, -0.99015159,  0.78938778, -0.43643578,\n",
              "        -0.73379939, -0.71774056, -0.70181003],\n",
              "       [-0.57735027,  1.3970713 ,  0.02020718, -1.48725887,  2.29128785,\n",
              "         1.36277029, -0.71774056,  1.42488702],\n",
              "       [-0.57735027,  1.3970713 ,  1.03056594, -0.36020607, -0.43643578,\n",
              "        -0.73379939,  1.39326109, -0.70181003],\n",
              "       [-0.57735027,  0.59184288,  2.0409247 ,  0.78938778, -0.43643578,\n",
              "        -0.73379939, -0.71774056, -0.70181003],\n",
              "       [-0.57735027, -0.21338553,  0.02020718, -0.36020607, -0.43643578,\n",
              "         1.36277029, -0.71774056, -0.70181003],\n",
              "       [ 1.73205081,  0.99445709,  0.02020718,  0.78938778, -0.43643578,\n",
              "        -0.73379939, -0.71774056,  1.42488702],\n",
              "       [ 1.73205081, -1.01861394, -0.99015159,  0.78938778, -0.43643578,\n",
              "        -0.73379939,  1.39326109,  1.42488702],\n",
              "       [-0.57735027, -0.61599974, -0.99015159,  0.78938778, -0.43643578,\n",
              "        -0.73379939,  1.39326109, -0.70181003],\n",
              "       [-0.57735027, -1.01861394,  2.0409247 ,  0.78938778, -0.43643578,\n",
              "        -0.73379939, -0.71774056, -0.70181003],\n",
              "       [ 1.73205081,  1.3970713 ,  0.02020718, -0.36020607, -0.43643578,\n",
              "         1.36277029, -0.71774056, -0.70181003],\n",
              "       [-0.57735027,  1.3970713 ,  1.03056594,  0.78938778, -0.43643578,\n",
              "        -0.73379939, -0.71774056,  1.42488702],\n",
              "       [-0.57735027,  0.99445709, -0.99015159, -1.48725887,  2.29128785,\n",
              "         1.36277029, -0.71774056,  1.42488702],\n",
              "       [-0.57735027, -1.01861394,  0.02020718,  0.78938778, -0.43643578,\n",
              "        -0.73379939,  1.39326109, -0.70181003],\n",
              "       [-0.57735027, -0.61599974,  1.03056594, -0.36020607, -0.43643578,\n",
              "        -0.73379939, -0.71774056, -0.70181003],\n",
              "       [-0.57735027, -0.21338553,  1.03056594, -0.36020607,  2.29128785,\n",
              "         1.36277029,  1.39326109,  1.42488702],\n",
              "       [-0.57735027, -0.61599974, -0.99015159,  0.78938778, -0.43643578,\n",
              "         1.36277029, -0.71774056,  1.42488702],\n",
              "       [ 1.73205081,  0.18922868, -0.99015159, -0.36020607, -0.43643578,\n",
              "        -0.73379939, -0.71774056, -0.70181003],\n",
              "       [ 1.73205081,  0.99445709,  1.03056594,  0.78938778, -0.43643578,\n",
              "        -0.73379939, -0.71774056, -0.70181003],\n",
              "       [-0.57735027, -0.21338553,  1.03056594, -0.36020607, -0.43643578,\n",
              "         1.36277029,  1.39326109, -0.70181003],\n",
              "       [-0.57735027, -1.01861394, -0.99015159,  0.78938778, -0.43643578,\n",
              "        -0.73379939, -0.71774056, -0.70181003],\n",
              "       [-0.57735027,  0.99445709, -0.99015159, -0.36020607, -0.43643578,\n",
              "        -0.73379939, -0.71774056, -0.70181003],\n",
              "       [-0.57735027, -1.01861394,  1.03056594, -0.36020607, -0.43643578,\n",
              "        -0.73379939, -0.71774056,  1.42488702],\n",
              "       [-0.57735027, -0.61599974, -0.99015159,  0.78938778, -0.43643578,\n",
              "        -0.73379939, -0.71774056, -0.70181003],\n",
              "       [-0.57735027, -1.01861394, -0.99015159,  0.78938778, -0.43643578,\n",
              "        -0.73379939, -0.71774056,  1.42488702],\n",
              "       [-0.57735027,  1.3970713 , -0.99015159,  0.78938778, -0.43643578,\n",
              "        -0.73379939, -0.71774056,  1.42488702],\n",
              "       [-0.57735027,  1.3970713 , -0.99015159,  0.78938778, -0.43643578,\n",
              "        -0.73379939, -0.71774056, -0.70181003],\n",
              "       [-0.57735027,  0.99445709, -0.99015159,  0.78938778, -0.43643578,\n",
              "         1.36277029,  1.39326109, -0.70181003],\n",
              "       [-0.57735027, -1.01861394,  1.03056594, -0.36020607, -0.43643578,\n",
              "        -0.73379939,  1.39326109, -0.70181003],\n",
              "       [ 1.73205081, -0.61599974,  1.03056594, -0.36020607,  2.29128785,\n",
              "         1.36277029, -0.71774056,  1.42488702],\n",
              "       [-0.57735027, -1.01861394, -0.99015159,  0.78938778, -0.43643578,\n",
              "         1.36277029, -0.71774056, -0.70181003],\n",
              "       [-0.57735027,  1.3970713 ,  2.0409247 , -0.36020607, -0.43643578,\n",
              "        -0.73379939,  1.39326109, -0.70181003],\n",
              "       [-0.57735027,  1.3970713 , -0.99015159, -0.36020607, -0.43643578,\n",
              "        -0.73379939, -0.71774056, -0.70181003],\n",
              "       [-0.57735027, -1.01861394,  1.03056594,  0.78938778, -0.43643578,\n",
              "        -0.73379939, -0.71774056,  1.42488702],\n",
              "       [-0.57735027, -0.61599974,  1.03056594, -0.36020607,  2.29128785,\n",
              "         1.36277029, -0.71774056, -0.70181003],\n",
              "       [ 1.73205081, -1.01861394, -0.99015159, -3.74136447, -0.43643578,\n",
              "        -0.73379939, -0.71774056, -0.70181003],\n",
              "       [ 1.73205081,  1.3970713 ,  1.03056594,  0.78938778, -0.43643578,\n",
              "        -0.73379939,  1.39326109, -0.70181003],\n",
              "       [-0.57735027,  1.3970713 , -0.99015159,  0.78938778, -0.43643578,\n",
              "        -0.73379939,  1.39326109,  1.42488702],\n",
              "       [-0.57735027,  0.99445709, -0.99015159, -0.36020607, -0.43643578,\n",
              "         1.36277029, -0.71774056, -0.70181003],\n",
              "       [-0.57735027, -1.01861394,  0.02020718, -0.36020607, -0.43643578,\n",
              "        -0.73379939, -0.71774056,  1.42488702],\n",
              "       [-0.57735027, -0.61599974,  1.03056594, -3.74136447, -0.43643578,\n",
              "        -0.73379939, -0.71774056, -0.70181003],\n",
              "       [-0.57735027, -1.01861394,  2.0409247 ,  0.78938778, -0.43643578,\n",
              "        -0.73379939, -0.71774056, -0.70181003],\n",
              "       [-0.57735027,  1.3970713 ,  0.02020718,  0.78938778,  2.29128785,\n",
              "         1.36277029,  1.39326109,  1.42488702],\n",
              "       [-0.57735027,  1.3970713 ,  0.02020718,  0.78938778, -0.43643578,\n",
              "        -0.73379939, -0.71774056, -0.70181003],\n",
              "       [-0.57735027, -0.61599974, -0.99015159, -0.36020607, -0.43643578,\n",
              "         1.36277029,  1.39326109, -0.70181003],\n",
              "       [-0.57735027, -0.61599974,  0.02020718, -0.36020607, -0.43643578,\n",
              "        -0.73379939, -0.71774056, -0.70181003],\n",
              "       [ 1.73205081,  0.99445709, -0.99015159, -0.36020607, -0.43643578,\n",
              "        -0.73379939, -0.71774056, -0.70181003],\n",
              "       [-0.57735027, -1.01861394, -0.99015159,  0.78938778, -0.43643578,\n",
              "         1.36277029,  1.39326109, -0.70181003],\n",
              "       [-0.57735027, -0.61599974,  1.03056594, -0.36020607, -0.43643578,\n",
              "        -0.73379939, -0.71774056, -0.70181003],\n",
              "       [-0.57735027, -1.01861394, -0.99015159,  0.78938778, -0.43643578,\n",
              "         1.36277029,  1.39326109,  1.42488702],\n",
              "       [ 1.73205081,  1.3970713 , -0.99015159, -0.36020607, -0.43643578,\n",
              "        -0.73379939,  1.39326109, -0.70181003],\n",
              "       [ 1.73205081,  1.3970713 ,  0.02020718, -2.61431167, -0.43643578,\n",
              "        -0.73379939, -0.71774056,  1.42488702],\n",
              "       [-0.57735027,  0.99445709,  1.03056594,  0.78938778, -0.43643578,\n",
              "        -0.73379939, -0.71774056,  1.42488702],\n",
              "       [ 1.73205081, -1.01861394,  0.02020718, -0.36020607, -0.43643578,\n",
              "        -0.73379939,  1.39326109, -0.70181003],\n",
              "       [-0.57735027, -0.61599974,  0.02020718, -0.36020607,  2.29128785,\n",
              "         1.36277029, -0.71774056, -0.70181003],\n",
              "       [-0.57735027, -1.01861394, -0.99015159, -0.36020607, -0.43643578,\n",
              "         1.36277029, -0.71774056, -0.70181003],\n",
              "       [-0.57735027,  1.3970713 ,  1.03056594, -3.74136447, -0.43643578,\n",
              "        -0.73379939, -0.71774056,  1.42488702],\n",
              "       [-0.57735027, -1.01861394, -0.99015159,  0.78938778, -0.43643578,\n",
              "        -0.73379939, -0.71774056, -0.70181003],\n",
              "       [-0.57735027,  0.18922868, -0.99015159,  0.78938778, -0.43643578,\n",
              "        -0.73379939,  1.39326109, -0.70181003],\n",
              "       [ 1.73205081, -1.01861394,  0.02020718, -0.36020607, -0.43643578,\n",
              "         1.36277029,  1.39326109, -0.70181003],\n",
              "       [-0.57735027, -0.61599974,  1.03056594,  0.78938778,  2.29128785,\n",
              "         1.36277029, -0.71774056,  1.42488702],\n",
              "       [-0.57735027,  0.99445709,  2.0409247 ,  0.78938778, -0.43643578,\n",
              "        -0.73379939, -0.71774056, -0.70181003],\n",
              "       [ 1.73205081, -0.21338553,  0.02020718, -0.36020607, -0.43643578,\n",
              "        -0.73379939, -0.71774056, -0.70181003]])"
            ]
          },
          "metadata": {},
          "execution_count": 130
        }
      ]
    },
    {
      "cell_type": "code",
      "source": [
        "previsores_df = pandas.DataFrame(previsores_esc)\n",
        "previsores_df"
      ],
      "metadata": {
        "id": "Tj0PN68vnfOc",
        "colab": {
          "base_uri": "https://localhost:8080/",
          "height": 0
        },
        "outputId": "6a434b04-1cd5-4b42-ca7e-ad33721f0b61"
      },
      "execution_count": 131,
      "outputs": [
        {
          "output_type": "execute_result",
          "data": {
            "text/plain": [
              "           0         1         2         3         4         5         6  \\\n",
              "0  -0.577350 -1.018614 -0.990152 -0.360206 -0.436436  1.362770 -0.717741   \n",
              "1   1.732051  0.189229  0.020207 -0.360206 -0.436436 -0.733799  1.393261   \n",
              "2   1.732051 -0.616000 -0.990152 -0.360206 -0.436436  1.362770  1.393261   \n",
              "3  -0.577350  0.591843  1.030566 -0.360206  2.291288  1.362770 -0.717741   \n",
              "4   1.732051  0.994457  2.040925 -0.360206 -0.436436 -0.733799 -0.717741   \n",
              "..       ...       ...       ...       ...       ...       ...       ...   \n",
              "95 -0.577350  0.189229 -0.990152  0.789388 -0.436436 -0.733799  1.393261   \n",
              "96  1.732051 -1.018614  0.020207 -0.360206 -0.436436  1.362770  1.393261   \n",
              "97 -0.577350 -0.616000  1.030566  0.789388  2.291288  1.362770 -0.717741   \n",
              "98 -0.577350  0.994457  2.040925  0.789388 -0.436436 -0.733799 -0.717741   \n",
              "99  1.732051 -0.213386  0.020207 -0.360206 -0.436436 -0.733799 -0.717741   \n",
              "\n",
              "           7  \n",
              "0   1.424887  \n",
              "1  -0.701810  \n",
              "2   1.424887  \n",
              "3  -0.701810  \n",
              "4  -0.701810  \n",
              "..       ...  \n",
              "95 -0.701810  \n",
              "96 -0.701810  \n",
              "97  1.424887  \n",
              "98 -0.701810  \n",
              "99 -0.701810  \n",
              "\n",
              "[100 rows x 8 columns]"
            ],
            "text/html": [
              "\n",
              "  <div id=\"df-9cfed1d0-15f9-4331-9c1c-1dc8d5fd5f49\">\n",
              "    <div class=\"colab-df-container\">\n",
              "      <div>\n",
              "<style scoped>\n",
              "    .dataframe tbody tr th:only-of-type {\n",
              "        vertical-align: middle;\n",
              "    }\n",
              "\n",
              "    .dataframe tbody tr th {\n",
              "        vertical-align: top;\n",
              "    }\n",
              "\n",
              "    .dataframe thead th {\n",
              "        text-align: right;\n",
              "    }\n",
              "</style>\n",
              "<table border=\"1\" class=\"dataframe\">\n",
              "  <thead>\n",
              "    <tr style=\"text-align: right;\">\n",
              "      <th></th>\n",
              "      <th>0</th>\n",
              "      <th>1</th>\n",
              "      <th>2</th>\n",
              "      <th>3</th>\n",
              "      <th>4</th>\n",
              "      <th>5</th>\n",
              "      <th>6</th>\n",
              "      <th>7</th>\n",
              "    </tr>\n",
              "  </thead>\n",
              "  <tbody>\n",
              "    <tr>\n",
              "      <th>0</th>\n",
              "      <td>-0.577350</td>\n",
              "      <td>-1.018614</td>\n",
              "      <td>-0.990152</td>\n",
              "      <td>-0.360206</td>\n",
              "      <td>-0.436436</td>\n",
              "      <td>1.362770</td>\n",
              "      <td>-0.717741</td>\n",
              "      <td>1.424887</td>\n",
              "    </tr>\n",
              "    <tr>\n",
              "      <th>1</th>\n",
              "      <td>1.732051</td>\n",
              "      <td>0.189229</td>\n",
              "      <td>0.020207</td>\n",
              "      <td>-0.360206</td>\n",
              "      <td>-0.436436</td>\n",
              "      <td>-0.733799</td>\n",
              "      <td>1.393261</td>\n",
              "      <td>-0.701810</td>\n",
              "    </tr>\n",
              "    <tr>\n",
              "      <th>2</th>\n",
              "      <td>1.732051</td>\n",
              "      <td>-0.616000</td>\n",
              "      <td>-0.990152</td>\n",
              "      <td>-0.360206</td>\n",
              "      <td>-0.436436</td>\n",
              "      <td>1.362770</td>\n",
              "      <td>1.393261</td>\n",
              "      <td>1.424887</td>\n",
              "    </tr>\n",
              "    <tr>\n",
              "      <th>3</th>\n",
              "      <td>-0.577350</td>\n",
              "      <td>0.591843</td>\n",
              "      <td>1.030566</td>\n",
              "      <td>-0.360206</td>\n",
              "      <td>2.291288</td>\n",
              "      <td>1.362770</td>\n",
              "      <td>-0.717741</td>\n",
              "      <td>-0.701810</td>\n",
              "    </tr>\n",
              "    <tr>\n",
              "      <th>4</th>\n",
              "      <td>1.732051</td>\n",
              "      <td>0.994457</td>\n",
              "      <td>2.040925</td>\n",
              "      <td>-0.360206</td>\n",
              "      <td>-0.436436</td>\n",
              "      <td>-0.733799</td>\n",
              "      <td>-0.717741</td>\n",
              "      <td>-0.701810</td>\n",
              "    </tr>\n",
              "    <tr>\n",
              "      <th>...</th>\n",
              "      <td>...</td>\n",
              "      <td>...</td>\n",
              "      <td>...</td>\n",
              "      <td>...</td>\n",
              "      <td>...</td>\n",
              "      <td>...</td>\n",
              "      <td>...</td>\n",
              "      <td>...</td>\n",
              "    </tr>\n",
              "    <tr>\n",
              "      <th>95</th>\n",
              "      <td>-0.577350</td>\n",
              "      <td>0.189229</td>\n",
              "      <td>-0.990152</td>\n",
              "      <td>0.789388</td>\n",
              "      <td>-0.436436</td>\n",
              "      <td>-0.733799</td>\n",
              "      <td>1.393261</td>\n",
              "      <td>-0.701810</td>\n",
              "    </tr>\n",
              "    <tr>\n",
              "      <th>96</th>\n",
              "      <td>1.732051</td>\n",
              "      <td>-1.018614</td>\n",
              "      <td>0.020207</td>\n",
              "      <td>-0.360206</td>\n",
              "      <td>-0.436436</td>\n",
              "      <td>1.362770</td>\n",
              "      <td>1.393261</td>\n",
              "      <td>-0.701810</td>\n",
              "    </tr>\n",
              "    <tr>\n",
              "      <th>97</th>\n",
              "      <td>-0.577350</td>\n",
              "      <td>-0.616000</td>\n",
              "      <td>1.030566</td>\n",
              "      <td>0.789388</td>\n",
              "      <td>2.291288</td>\n",
              "      <td>1.362770</td>\n",
              "      <td>-0.717741</td>\n",
              "      <td>1.424887</td>\n",
              "    </tr>\n",
              "    <tr>\n",
              "      <th>98</th>\n",
              "      <td>-0.577350</td>\n",
              "      <td>0.994457</td>\n",
              "      <td>2.040925</td>\n",
              "      <td>0.789388</td>\n",
              "      <td>-0.436436</td>\n",
              "      <td>-0.733799</td>\n",
              "      <td>-0.717741</td>\n",
              "      <td>-0.701810</td>\n",
              "    </tr>\n",
              "    <tr>\n",
              "      <th>99</th>\n",
              "      <td>1.732051</td>\n",
              "      <td>-0.213386</td>\n",
              "      <td>0.020207</td>\n",
              "      <td>-0.360206</td>\n",
              "      <td>-0.436436</td>\n",
              "      <td>-0.733799</td>\n",
              "      <td>-0.717741</td>\n",
              "      <td>-0.701810</td>\n",
              "    </tr>\n",
              "  </tbody>\n",
              "</table>\n",
              "<p>100 rows × 8 columns</p>\n",
              "</div>\n",
              "      <button class=\"colab-df-convert\" onclick=\"convertToInteractive('df-9cfed1d0-15f9-4331-9c1c-1dc8d5fd5f49')\"\n",
              "              title=\"Convert this dataframe to an interactive table.\"\n",
              "              style=\"display:none;\">\n",
              "        \n",
              "  <svg xmlns=\"http://www.w3.org/2000/svg\" height=\"24px\"viewBox=\"0 0 24 24\"\n",
              "       width=\"24px\">\n",
              "    <path d=\"M0 0h24v24H0V0z\" fill=\"none\"/>\n",
              "    <path d=\"M18.56 5.44l.94 2.06.94-2.06 2.06-.94-2.06-.94-.94-2.06-.94 2.06-2.06.94zm-11 1L8.5 8.5l.94-2.06 2.06-.94-2.06-.94L8.5 2.5l-.94 2.06-2.06.94zm10 10l.94 2.06.94-2.06 2.06-.94-2.06-.94-.94-2.06-.94 2.06-2.06.94z\"/><path d=\"M17.41 7.96l-1.37-1.37c-.4-.4-.92-.59-1.43-.59-.52 0-1.04.2-1.43.59L10.3 9.45l-7.72 7.72c-.78.78-.78 2.05 0 2.83L4 21.41c.39.39.9.59 1.41.59.51 0 1.02-.2 1.41-.59l7.78-7.78 2.81-2.81c.8-.78.8-2.07 0-2.86zM5.41 20L4 18.59l7.72-7.72 1.47 1.35L5.41 20z\"/>\n",
              "  </svg>\n",
              "      </button>\n",
              "      \n",
              "  <style>\n",
              "    .colab-df-container {\n",
              "      display:flex;\n",
              "      flex-wrap:wrap;\n",
              "      gap: 12px;\n",
              "    }\n",
              "\n",
              "    .colab-df-convert {\n",
              "      background-color: #E8F0FE;\n",
              "      border: none;\n",
              "      border-radius: 50%;\n",
              "      cursor: pointer;\n",
              "      display: none;\n",
              "      fill: #1967D2;\n",
              "      height: 32px;\n",
              "      padding: 0 0 0 0;\n",
              "      width: 32px;\n",
              "    }\n",
              "\n",
              "    .colab-df-convert:hover {\n",
              "      background-color: #E2EBFA;\n",
              "      box-shadow: 0px 1px 2px rgba(60, 64, 67, 0.3), 0px 1px 3px 1px rgba(60, 64, 67, 0.15);\n",
              "      fill: #174EA6;\n",
              "    }\n",
              "\n",
              "    [theme=dark] .colab-df-convert {\n",
              "      background-color: #3B4455;\n",
              "      fill: #D2E3FC;\n",
              "    }\n",
              "\n",
              "    [theme=dark] .colab-df-convert:hover {\n",
              "      background-color: #434B5C;\n",
              "      box-shadow: 0px 1px 3px 1px rgba(0, 0, 0, 0.15);\n",
              "      filter: drop-shadow(0px 1px 2px rgba(0, 0, 0, 0.3));\n",
              "      fill: #FFFFFF;\n",
              "    }\n",
              "  </style>\n",
              "\n",
              "      <script>\n",
              "        const buttonEl =\n",
              "          document.querySelector('#df-9cfed1d0-15f9-4331-9c1c-1dc8d5fd5f49 button.colab-df-convert');\n",
              "        buttonEl.style.display =\n",
              "          google.colab.kernel.accessAllowed ? 'block' : 'none';\n",
              "\n",
              "        async function convertToInteractive(key) {\n",
              "          const element = document.querySelector('#df-9cfed1d0-15f9-4331-9c1c-1dc8d5fd5f49');\n",
              "          const dataTable =\n",
              "            await google.colab.kernel.invokeFunction('convertToInteractive',\n",
              "                                                     [key], {});\n",
              "          if (!dataTable) return;\n",
              "\n",
              "          const docLinkHtml = 'Like what you see? Visit the ' +\n",
              "            '<a target=\"_blank\" href=https://colab.research.google.com/notebooks/data_table.ipynb>data table notebook</a>'\n",
              "            + ' to learn more about interactive tables.';\n",
              "          element.innerHTML = '';\n",
              "          dataTable['output_type'] = 'display_data';\n",
              "          await google.colab.output.renderOutput(dataTable, element);\n",
              "          const docLink = document.createElement('div');\n",
              "          docLink.innerHTML = docLinkHtml;\n",
              "          element.appendChild(docLink);\n",
              "        }\n",
              "      </script>\n",
              "    </div>\n",
              "  </div>\n",
              "  "
            ]
          },
          "metadata": {},
          "execution_count": 131
        }
      ]
    },
    {
      "cell_type": "markdown",
      "source": [
        "alvo = coluna que se pretende atingir (houve ou não a procura por Atendimento Profissional).\n",
        "\n",
        "previsores = variáveis dos perfis dos estudantes (idade, notas, ano de curso e o histórico de doenças psicológicas) transformadas em numéricas manualmente quando necessário, sem escalonar.\n",
        "\n",
        "previsores_esc = variáveis dos previsores após escalonamento."
      ],
      "metadata": {
        "id": "yxxjpMajK3Hd"
      }
    },
    {
      "cell_type": "markdown",
      "source": [
        "##Treino e Teste"
      ],
      "metadata": {
        "id": "lHjie6wdoI0H"
      }
    },
    {
      "cell_type": "code",
      "source": [
        "#parâmetro \"test_size\" foi zerado pois o dataset já é relativamente pequeno, não há necessidade de trabalhar apenas com uma porcentagem dele\n",
        "x_treino, x_teste, y_treino, y_teste = tts(previsores_esc, alvo, random_state = 0)"
      ],
      "metadata": {
        "id": "VN54fgXwoZCU"
      },
      "execution_count": 132,
      "outputs": []
    },
    {
      "cell_type": "code",
      "source": [
        "x_treino.shape"
      ],
      "metadata": {
        "colab": {
          "base_uri": "https://localhost:8080/"
        },
        "id": "qQsWANKfp8ah",
        "outputId": "fa4bab91-ef42-4c7d-f016-86b33c70dd30"
      },
      "execution_count": 133,
      "outputs": [
        {
          "output_type": "execute_result",
          "data": {
            "text/plain": [
              "(75, 8)"
            ]
          },
          "metadata": {},
          "execution_count": 133
        }
      ]
    },
    {
      "cell_type": "code",
      "source": [
        "x_teste.shape"
      ],
      "metadata": {
        "colab": {
          "base_uri": "https://localhost:8080/"
        },
        "id": "0n2S0XaOp_Jm",
        "outputId": "45bf1630-f25f-4a37-847d-e51a91e88b7f"
      },
      "execution_count": 134,
      "outputs": [
        {
          "output_type": "execute_result",
          "data": {
            "text/plain": [
              "(25, 8)"
            ]
          },
          "metadata": {},
          "execution_count": 134
        }
      ]
    },
    {
      "cell_type": "code",
      "source": [
        "y_treino.shape"
      ],
      "metadata": {
        "colab": {
          "base_uri": "https://localhost:8080/"
        },
        "id": "CGsAb7iFqBgj",
        "outputId": "be7adf2b-bf70-4044-ec87-eb8bd6a9b67b"
      },
      "execution_count": 135,
      "outputs": [
        {
          "output_type": "execute_result",
          "data": {
            "text/plain": [
              "(75,)"
            ]
          },
          "metadata": {},
          "execution_count": 135
        }
      ]
    },
    {
      "cell_type": "code",
      "source": [
        "y_teste.shape"
      ],
      "metadata": {
        "colab": {
          "base_uri": "https://localhost:8080/"
        },
        "id": "4d8q0T7MqGAM",
        "outputId": "b85215bc-7ca7-47f6-c62a-6ecb4403abd8"
      },
      "execution_count": 136,
      "outputs": [
        {
          "output_type": "execute_result",
          "data": {
            "text/plain": [
              "(25,)"
            ]
          },
          "metadata": {},
          "execution_count": 136
        }
      ]
    },
    {
      "cell_type": "markdown",
      "source": [
        "#Árvore de Decisão"
      ],
      "metadata": {
        "id": "rskl2IfehtDv"
      }
    },
    {
      "cell_type": "code",
      "source": [
        "#Gerando a árvore de decisão com os critérios: 'entropy' e 'max_depth = 3'\n",
        "arvore = dtc(criterion='entropy', random_state = 0, max_depth=3)\n",
        "_arvore = arvore.fit(x_treino, y_treino)"
      ],
      "metadata": {
        "id": "Yp1tNAZrwgGa"
      },
      "execution_count": null,
      "outputs": []
    },
    {
      "cell_type": "code",
      "source": [
        "tree.plot_tree(_arvore)"
      ],
      "metadata": {
        "colab": {
          "base_uri": "https://localhost:8080/",
          "height": 404
        },
        "id": "jRP70meSw34m",
        "outputId": "078efaab-70e8-4493-925e-38e4fdd87d84"
      },
      "execution_count": null,
      "outputs": [
        {
          "output_type": "execute_result",
          "data": {
            "text/plain": [
              "[Text(0.375, 0.875, 'X[5] <= 0.314\\nentropy = 0.3\\nsamples = 75\\nvalue = [71, 4]'),\n",
              " Text(0.25, 0.625, 'entropy = 0.0\\nsamples = 49\\nvalue = [49, 0]'),\n",
              " Text(0.5, 0.625, 'X[3] <= -0.924\\nentropy = 0.619\\nsamples = 26\\nvalue = [22, 4]'),\n",
              " Text(0.25, 0.375, 'X[6] <= 0.338\\nentropy = 0.918\\nsamples = 3\\nvalue = [1, 2]'),\n",
              " Text(0.125, 0.125, 'entropy = 0.0\\nsamples = 2\\nvalue = [0, 2]'),\n",
              " Text(0.375, 0.125, 'entropy = 0.0\\nsamples = 1\\nvalue = [1, 0]'),\n",
              " Text(0.75, 0.375, 'X[3] <= 0.215\\nentropy = 0.426\\nsamples = 23\\nvalue = [21, 2]'),\n",
              " Text(0.625, 0.125, 'entropy = 0.0\\nsamples = 14\\nvalue = [14, 0]'),\n",
              " Text(0.875, 0.125, 'entropy = 0.764\\nsamples = 9\\nvalue = [7, 2]')]"
            ]
          },
          "metadata": {},
          "execution_count": 56
        },
        {
          "output_type": "display_data",
          "data": {
            "text/plain": [
              "<Figure size 432x288 with 1 Axes>"
            ],
            "image/png": "[encoded data removed]"
          },
          "metadata": {
            "needs_background": "light"
          }
        }
      ]
    },
    {
      "cell_type": "markdown",
      "source": [
        "##Árvore de Decisão - Dados de Teste"
      ],
      "metadata": {
        "id": "FW42aVy95qR8"
      }
    },
    {
      "cell_type": "code",
      "source": [
        "previsoes_teste = arvore.predict(x_teste)"
      ],
      "metadata": {
        "id": "aTeFhceZxHBX"
      },
      "execution_count": null,
      "outputs": []
    },
    {
      "cell_type": "code",
      "source": [
        "print(\"Acurácia Teste: %.2f%%\" %(accuracy_score(y_teste, previsoes_teste)*100.0))"
      ],
      "metadata": {
        "colab": {
          "base_uri": "https://localhost:8080/"
        },
        "id": "_BWXXNb_yfz8",
        "outputId": "bfafd489-8e98-4789-d8c7-7c711da3cd36"
      },
      "execution_count": null,
      "outputs": [
        {
          "output_type": "stream",
          "name": "stdout",
          "text": [
            "Acurácia Teste: 92.00%\n"
          ]
        }
      ]
    },
    {
      "cell_type": "code",
      "source": [
        "print(classification_report(y_teste, previsoes_teste))"
      ],
      "metadata": {
        "colab": {
          "base_uri": "https://localhost:8080/"
        },
        "id": "a9HlIH5k4ot5",
        "outputId": "fdb76bef-c152-40dc-9488-9bf80b4dc74f"
      },
      "execution_count": null,
      "outputs": [
        {
          "output_type": "stream",
          "name": "stdout",
          "text": [
            "              precision    recall  f1-score   support\n",
            "\n",
            "           0       0.92      1.00      0.96        23\n",
            "           1       0.00      0.00      0.00         2\n",
            "\n",
            "    accuracy                           0.92        25\n",
            "   macro avg       0.46      0.50      0.48        25\n",
            "weighted avg       0.85      0.92      0.88        25\n",
            "\n"
          ]
        }
      ]
    },
    {
      "cell_type": "code",
      "source": [
        "#Gerando matriz de confusão\n",
        "confusion_matrix(y_teste, previsoes_teste)"
      ],
      "metadata": {
        "colab": {
          "base_uri": "https://localhost:8080/"
        },
        "id": "scvTNdlLW4Fo",
        "outputId": "cd1ba71f-59cd-4f67-e7be-d7eb83e12f21"
      },
      "execution_count": null,
      "outputs": [
        {
          "output_type": "execute_result",
          "data": {
            "text/plain": [
              "array([[23,  0],\n",
              "       [ 2,  0]])"
            ]
          },
          "metadata": {},
          "execution_count": 60
        }
      ]
    },
    {
      "cell_type": "markdown",
      "source": [
        "##Árvore de Decisão - Dados de Treino"
      ],
      "metadata": {
        "id": "jzrxGoU456qZ"
      }
    },
    {
      "cell_type": "code",
      "source": [
        "previsoes_treino = arvore.predict(x_treino)\n",
        "previsoes_treino"
      ],
      "metadata": {
        "id": "5YiEOF-_5YiQ",
        "colab": {
          "base_uri": "https://localhost:8080/"
        },
        "outputId": "5d69d9bc-ecaa-426e-ffe7-7d2abd540fda"
      },
      "execution_count": null,
      "outputs": [
        {
          "output_type": "execute_result",
          "data": {
            "text/plain": [
              "array([0, 0, 0, 0, 0, 0, 0, 0, 0, 0, 0, 0, 0, 0, 0, 0, 0, 0, 0, 0, 0, 0,\n",
              "       0, 0, 0, 0, 0, 0, 0, 0, 0, 0, 0, 0, 0, 0, 0, 0, 0, 0, 0, 0, 0, 0,\n",
              "       0, 0, 0, 1, 0, 0, 0, 0, 0, 0, 0, 0, 0, 0, 0, 1, 0, 0, 0, 0, 0, 0,\n",
              "       0, 0, 0, 0, 0, 0, 0, 0, 0])"
            ]
          },
          "metadata": {},
          "execution_count": 61
        }
      ]
    },
    {
      "cell_type": "code",
      "source": [
        "print(classification_report(y_treino, previsoes_treino))"
      ],
      "metadata": {
        "colab": {
          "base_uri": "https://localhost:8080/"
        },
        "id": "b54WO7tHXwa6",
        "outputId": "78114b6c-2f2f-4bb2-ea63-1cd69bf1ebb1"
      },
      "execution_count": null,
      "outputs": [
        {
          "output_type": "stream",
          "name": "stdout",
          "text": [
            "              precision    recall  f1-score   support\n",
            "\n",
            "           0       0.97      1.00      0.99        71\n",
            "           1       1.00      0.50      0.67         4\n",
            "\n",
            "    accuracy                           0.97        75\n",
            "   macro avg       0.99      0.75      0.83        75\n",
            "weighted avg       0.97      0.97      0.97        75\n",
            "\n"
          ]
        }
      ]
    },
    {
      "cell_type": "code",
      "source": [
        "print(\"Acurácia Treino: %.2f%%\" %(accuracy_score(y_treino, previsoes_treino)*100.0))"
      ],
      "metadata": {
        "colab": {
          "base_uri": "https://localhost:8080/"
        },
        "id": "IegR0-Hc6fze",
        "outputId": "8d5f0e05-01fe-484b-d354-ec435ac70acf"
      },
      "execution_count": null,
      "outputs": [
        {
          "output_type": "stream",
          "name": "stdout",
          "text": [
            "Acurácia Treino: 97.33%\n"
          ]
        }
      ]
    },
    {
      "cell_type": "code",
      "source": [
        "#Gerando matriz de confusão cruzando com os dados obtidos no treino\n",
        "confusion_matrix(y_treino, previsoes_treino)"
      ],
      "metadata": {
        "colab": {
          "base_uri": "https://localhost:8080/"
        },
        "id": "dg40PfOcXkr6",
        "outputId": "9cfd9026-40d6-4ee8-cc56-b5a31cbf1011"
      },
      "execution_count": null,
      "outputs": [
        {
          "output_type": "execute_result",
          "data": {
            "text/plain": [
              "array([[71,  0],\n",
              "       [ 2,  2]])"
            ]
          },
          "metadata": {},
          "execution_count": 64
        }
      ]
    },
    {
      "cell_type": "markdown",
      "source": [
        "##Árvore de Decisão: Resultados obtidos"
      ],
      "metadata": {
        "id": "ykTuaE-T7SRl"
      }
    },
    {
      "cell_type": "markdown",
      "source": [
        "Acurácias das previsões escalonadas utilizando Árvore de Decisão:\n",
        "* Teste: 92%\n",
        "* Treino: 97%"
      ],
      "metadata": {
        "id": "ZrVtSrJt7Zda"
      }
    },
    {
      "cell_type": "markdown",
      "source": [
        "#Random Forests"
      ],
      "metadata": {
        "id": "DrXg73Mt-Qri"
      }
    },
    {
      "cell_type": "code",
      "source": [
        "random_forest = RandomForestClassifier(n_estimators = 150, criterion='entropy', random_state = 0, max_depth = 4)\n",
        "random_forest.fit(x_treino, y_treino)"
      ],
      "metadata": {
        "id": "vvlJhOk8_DRg",
        "colab": {
          "base_uri": "https://localhost:8080/"
        },
        "outputId": "2caeaeb7-e39a-4428-ba0e-91784d60b74f"
      },
      "execution_count": null,
      "outputs": [
        {
          "output_type": "execute_result",
          "data": {
            "text/plain": [
              "RandomForestClassifier(criterion='entropy', max_depth=4, n_estimators=150,\n",
              "                       random_state=0)"
            ]
          },
          "metadata": {},
          "execution_count": 65
        }
      ]
    },
    {
      "cell_type": "markdown",
      "source": [
        "Random Forests foi utilizado com os seguintes parâmetros:\n",
        "* 'max_depth' = 4\n",
        "* 'random_state' = 0 \n",
        "* 'criterion' = entropy \n",
        "* 'n_estimators' = 150"
      ],
      "metadata": {
        "id": "fR8B_tInc7L_"
      }
    },
    {
      "cell_type": "code",
      "source": [
        "_random_forest = random_forest.fit(x_treino, y_treino)"
      ],
      "metadata": {
        "id": "Oq9RHXQzbTQr"
      },
      "execution_count": null,
      "outputs": []
    },
    {
      "cell_type": "markdown",
      "source": [
        "## Random Forests - Dados de Teste"
      ],
      "metadata": {
        "id": "dlPGYvbB_sdy"
      }
    },
    {
      "cell_type": "code",
      "source": [
        "previsoes_random_forest_teste = _random_forest.predict(x_teste)"
      ],
      "metadata": {
        "id": "X3tWU4wt_qsl"
      },
      "execution_count": null,
      "outputs": []
    },
    {
      "cell_type": "code",
      "source": [
        "confusion_matrix(y_teste, previsoes_random_forest_teste)"
      ],
      "metadata": {
        "colab": {
          "base_uri": "https://localhost:8080/"
        },
        "id": "z_lASmKecSUE",
        "outputId": "33a4ee21-34bc-416b-920b-ec1cecbc4532"
      },
      "execution_count": null,
      "outputs": [
        {
          "output_type": "execute_result",
          "data": {
            "text/plain": [
              "array([[23,  0],\n",
              "       [ 2,  0]])"
            ]
          },
          "metadata": {},
          "execution_count": 68
        }
      ]
    },
    {
      "cell_type": "code",
      "source": [
        "print(\"Acurácia Teste Random Forests: %.2f%%\" % (accuracy_score(y_teste, previsoes_random_forest_teste) * 100.0))"
      ],
      "metadata": {
        "colab": {
          "base_uri": "https://localhost:8080/"
        },
        "id": "Jd8w4uhmAHfM",
        "outputId": "4263255b-b505-44ef-b316-6be1eda68d49"
      },
      "execution_count": null,
      "outputs": [
        {
          "output_type": "stream",
          "name": "stdout",
          "text": [
            "Acurácia Teste Random Forests: 92.00%\n"
          ]
        }
      ]
    },
    {
      "cell_type": "code",
      "source": [
        "print(classification_report(y_teste, previsoes_random_forest_teste))"
      ],
      "metadata": {
        "id": "R-BQCTQQAVhh",
        "colab": {
          "base_uri": "https://localhost:8080/"
        },
        "outputId": "e98ab5cd-0dba-4a31-a2fc-e7ddbfb9d523"
      },
      "execution_count": null,
      "outputs": [
        {
          "output_type": "stream",
          "name": "stdout",
          "text": [
            "              precision    recall  f1-score   support\n",
            "\n",
            "           0       0.92      1.00      0.96        23\n",
            "           1       0.00      0.00      0.00         2\n",
            "\n",
            "    accuracy                           0.92        25\n",
            "   macro avg       0.46      0.50      0.48        25\n",
            "weighted avg       0.85      0.92      0.88        25\n",
            "\n"
          ]
        }
      ]
    },
    {
      "cell_type": "markdown",
      "source": [
        "## Random Forests - Dados de Treino"
      ],
      "metadata": {
        "id": "FIYaPw2OAuUj"
      }
    },
    {
      "cell_type": "code",
      "source": [
        "previsoes_random_forest_treino = _random_forest.predict(x_treino)\n",
        "previsoes_random_forest_treino"
      ],
      "metadata": {
        "id": "BhrJx0w9AzP8",
        "colab": {
          "base_uri": "https://localhost:8080/"
        },
        "outputId": "d9b04705-7402-4947-f6a7-683c4c1602ac"
      },
      "execution_count": null,
      "outputs": [
        {
          "output_type": "execute_result",
          "data": {
            "text/plain": [
              "array([0, 0, 0, 0, 0, 0, 0, 0, 0, 0, 0, 0, 0, 0, 0, 0, 0, 0, 0, 0, 0, 0,\n",
              "       0, 0, 0, 0, 0, 0, 0, 0, 0, 0, 0, 0, 0, 0, 0, 0, 0, 0, 0, 0, 0, 0,\n",
              "       0, 0, 0, 1, 0, 0, 0, 0, 0, 0, 0, 0, 0, 0, 0, 1, 0, 0, 0, 0, 0, 0,\n",
              "       0, 0, 0, 0, 0, 0, 0, 0, 0])"
            ]
          },
          "metadata": {},
          "execution_count": 71
        }
      ]
    },
    {
      "cell_type": "code",
      "source": [
        "accuracy_score(y_treino, previsoes_random_forest_treino)"
      ],
      "metadata": {
        "colab": {
          "base_uri": "https://localhost:8080/"
        },
        "id": "aMy7eyuBcozn",
        "outputId": "8b45f0c3-6706-4231-9ede-d7371c9c6fa8"
      },
      "execution_count": null,
      "outputs": [
        {
          "output_type": "execute_result",
          "data": {
            "text/plain": [
              "0.9733333333333334"
            ]
          },
          "metadata": {},
          "execution_count": 72
        }
      ]
    },
    {
      "cell_type": "code",
      "source": [
        "print(\"Acurácia Random Forests dos dados de treino: %.2f%%\" % (accuracy_score(y_treino, previsoes_random_forest_treino)*100))"
      ],
      "metadata": {
        "colab": {
          "base_uri": "https://localhost:8080/"
        },
        "id": "43r3cirUBm7W",
        "outputId": "7cc286d7-93bf-4c52-8d84-1b504360c78a"
      },
      "execution_count": null,
      "outputs": [
        {
          "output_type": "stream",
          "name": "stdout",
          "text": [
            "Acurácia Random Forests dos dados de treino: 97.33%\n"
          ]
        }
      ]
    },
    {
      "cell_type": "markdown",
      "source": [
        "## Random Forests - Resultados Obtidos"
      ],
      "metadata": {
        "id": "KVVyJEg-DUb7"
      }
    },
    {
      "cell_type": "markdown",
      "source": [
        "Acurácias das previsões escalonadas utilizando Random Forests:\n",
        "* Teste: 92%\n",
        "* Treino: 97,33%\n"
      ],
      "metadata": {
        "id": "7WYdZ8XwDI1O"
      }
    },
    {
      "cell_type": "markdown",
      "source": [
        "# Regressão Logística"
      ],
      "metadata": {
        "id": "1KqlF0m3D6-c"
      }
    },
    {
      "cell_type": "markdown",
      "source": [
        "Ao utilizar Regressão Logística com os seguintes parâmetros:\n",
        "* 'penality' = l2 (l1 apresentou erro ao executar);\n",
        "* 'max_iter' = 500;\n",
        "* 'solver' = lbfgs;\n",
        "* 'random_state' = 0; \n",
        "* 'tol' = 0.00001;\n",
        "* 'c=2';"
      ],
      "metadata": {
        "id": "u9_m8s3zmtRz"
      }
    },
    {
      "cell_type": "code",
      "source": [
        "logistica = lr(random_state=0, max_iter=500, penalty=\"l2\", tol=0.00001, C=2, solver=\"lbfgs\")\n",
        "logistica.fit(x_treino, y_treino)"
      ],
      "metadata": {
        "id": "awu7zKqnEWbh",
        "colab": {
          "base_uri": "https://localhost:8080/"
        },
        "outputId": "7ca16baa-1558-4f31-bf0a-c6cfb2f513a4"
      },
      "execution_count": 151,
      "outputs": [
        {
          "output_type": "execute_result",
          "data": {
            "text/plain": [
              "LogisticRegression(C=2, max_iter=500, random_state=0, tol=1e-05)"
            ]
          },
          "metadata": {},
          "execution_count": 151
        }
      ]
    },
    {
      "cell_type": "code",
      "source": [
        "_logistica = logistica.fit(x_treino, y_treino)"
      ],
      "metadata": {
        "id": "7wK-l-01kOyZ"
      },
      "execution_count": 146,
      "outputs": []
    },
    {
      "cell_type": "code",
      "source": [
        "_logistica.intercept_"
      ],
      "metadata": {
        "id": "lD0PopTJEWvL",
        "colab": {
          "base_uri": "https://localhost:8080/"
        },
        "outputId": "bb595bca-39ed-4ab2-a175-3c63bf6985ec"
      },
      "execution_count": 147,
      "outputs": [
        {
          "output_type": "execute_result",
          "data": {
            "text/plain": [
              "array([-4.92891314])"
            ]
          },
          "metadata": {},
          "execution_count": 147
        }
      ]
    },
    {
      "cell_type": "code",
      "source": [
        "_logistica.coef_"
      ],
      "metadata": {
        "id": "Ug0l3_keHj4B",
        "colab": {
          "base_uri": "https://localhost:8080/"
        },
        "outputId": "c21a9618-2121-457b-b679-3b402033d75b"
      },
      "execution_count": 148,
      "outputs": [
        {
          "output_type": "execute_result",
          "data": {
            "text/plain": [
              "array([[-0.72869802,  0.69263739, -0.9620629 , -0.44232673,  0.68965202,\n",
              "         1.20176556,  0.34510002,  0.00546952]])"
            ]
          },
          "metadata": {},
          "execution_count": 148
        }
      ]
    },
    {
      "cell_type": "markdown",
      "source": [
        "## Regressão Logística - Dados de Teste"
      ],
      "metadata": {
        "id": "NwUWD6xKEFHL"
      }
    },
    {
      "cell_type": "code",
      "source": [
        "previsoes_logistica_regressao_teste = _logistica.predict(x_teste)"
      ],
      "metadata": {
        "id": "OeWEJvP-Hprj"
      },
      "execution_count": 141,
      "outputs": []
    },
    {
      "cell_type": "code",
      "source": [
        "print(\"Acurácia de Teste: %.2f%%\" %(accuracy_score(y_teste, previsoes_logistica_regressao_teste) * 100.0))"
      ],
      "metadata": {
        "id": "7mchw5vlH8o_",
        "colab": {
          "base_uri": "https://localhost:8080/"
        },
        "outputId": "67a65c09-92b7-45ad-9926-a0ae13c53693"
      },
      "execution_count": 149,
      "outputs": [
        {
          "output_type": "stream",
          "name": "stdout",
          "text": [
            "Acurácia de Teste: 92.00%\n"
          ]
        }
      ]
    },
    {
      "cell_type": "code",
      "source": [
        "print(classification_report(y_teste, previsoes_logistica_regressao_teste))"
      ],
      "metadata": {
        "id": "Ts_Pav_tI2Y_",
        "colab": {
          "base_uri": "https://localhost:8080/"
        },
        "outputId": "df601852-c2dd-4ff5-e9a7-b4893bade92d"
      },
      "execution_count": 150,
      "outputs": [
        {
          "output_type": "stream",
          "name": "stdout",
          "text": [
            "              precision    recall  f1-score   support\n",
            "\n",
            "           0       0.92      1.00      0.96        23\n",
            "           1       0.00      0.00      0.00         2\n",
            "\n",
            "    accuracy                           0.92        25\n",
            "   macro avg       0.46      0.50      0.48        25\n",
            "weighted avg       0.85      0.92      0.88        25\n",
            "\n"
          ]
        }
      ]
    },
    {
      "cell_type": "markdown",
      "source": [
        "## Regressão Logística - Dados de Treino"
      ],
      "metadata": {
        "id": "UeNBVikoEPF5"
      }
    },
    {
      "cell_type": "code",
      "source": [
        "previsoes_logistica_regressao_treino = _logistica.predict(x_treino)"
      ],
      "metadata": {
        "id": "p_9fXQSrIu-E"
      },
      "execution_count": 144,
      "outputs": []
    },
    {
      "cell_type": "code",
      "source": [
        "print(\"Acurácia de Treino: %.2f%%\" %(accuracy_score(y_treino, previsoes_logistica_regressao_treino) * 100.0))"
      ],
      "metadata": {
        "id": "lyS8Oc54JDQg",
        "colab": {
          "base_uri": "https://localhost:8080/"
        },
        "outputId": "af20a739-0aa9-4019-c814-2580661fee79"
      },
      "execution_count": 143,
      "outputs": [
        {
          "output_type": "stream",
          "name": "stdout",
          "text": [
            "Acurácia de Treino: 96.00%\n"
          ]
        }
      ]
    },
    {
      "cell_type": "markdown",
      "source": [
        "## Regressão Logística - Resultados Obtidos"
      ],
      "metadata": {
        "id": "luzbO9bmESvz"
      }
    },
    {
      "cell_type": "markdown",
      "source": [
        "Acurácia das previsões ao utilizar a Reg. Logística:\n",
        "\n",
        "* C2:\n",
        "* Teste = 92%\n",
        "* Treino = 96%\n",
        "\n",
        "* C1:\n",
        "* Teste = 92%\n",
        "* Treino = 96%\n",
        "\n",
        "* C3:\n",
        "* Teste = 92%\n",
        "* Treino = 96%\n"
      ],
      "metadata": {
        "id": "-LizqTkVEXPz"
      }
    },
    {
      "cell_type": "markdown",
      "source": [
        "# Resumo e conclusões"
      ],
      "metadata": {
        "id": "E4JCsnb1oiof"
      }
    },
    {
      "cell_type": "markdown",
      "source": [
        "\n",
        "Utilizando o Aprendizado Supervisionado com os modelos \"Árvore de Decisão, Random Forests e Regressão Logística\", o resultado em porcentagem nos treinos foi bem próximo de 100% e houveram valores semelhantes como resumido a seguir (Valor das Acurácias):\n",
        "\n",
        "* Árvore de Decisão: <br> Teste: 92%; <br> Treino: 97%\n",
        "\n",
        "* Random Forests: <br> Teste: 92%; <br> Treino: 97,33%\n",
        "\n",
        "* Reg. Logística: <br> Teste: 92%; <br> Treino: 96% \n",
        "\n",
        "Após a análise do resultado dos algoritmos utilizados, tem se que a tendência para prever a ocorrência do Tratamento psicológico profissional nos estudantes é bem alta se as outras variáveis também forem relacionadas. Em outras palavras, após traçar os perfis dos estudantes baseados nas outras informações disponíveis, é possível prever se eles tendem a fazer Tratamentos Profissionais ou não com uma precisão bastante alta (mais de 90%)."
      ],
      "metadata": {
        "id": "Ll3UOSybpiAV"
      }
    }
  ]
}